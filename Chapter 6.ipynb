{
 "cells": [
  {
   "cell_type": "code",
   "execution_count": 765,
   "metadata": {},
   "outputs": [],
   "source": [
    "import numpy as np\n",
    "import pandas as pd\n",
    "import matplotlib.pyplot as plt\n",
    "import seaborn as sns\n",
    "import statsmodels.api as sm\n",
    "import statsmodels.formula.api as smf\n",
    "import patsy\n",
    "import itertools\n",
    "from IPython.display import display, HTML\n",
    "from sklearn import linear_model\n",
    "from sklearn.model_selection import KFold\n",
    "from ipywidgets import interact\n",
    "import ipywidgets as widgets\n",
    "import warnings\n",
    "warnings.filterwarnings('ignore')\n",
    "\n",
    "from ipywidgets import interact\n",
    "import ipywidgets as widgets\n",
    "\n",
    "# Deps for pca/pcr\n",
    "from sklearn.preprocessing import scale\n",
    "from sklearn.decomposition import PCA\n",
    "from sklearn.model_selection import cross_val_score\n",
    "from sklearn.linear_model import LinearRegression\n",
    "\n",
    "from scipy import stats"
   ]
  },
  {
   "cell_type": "markdown",
   "metadata": {},
   "source": [
    "## 8. In this exercise, we will generate simulated data, and will then use this data to perform best subset selection."
   ]
  },
  {
   "cell_type": "markdown",
   "metadata": {},
   "source": [
    "**(a) Use the rnorm() function to generate a predictor X of length n = 100, as well as a noise vector ε of length n = 100.**"
   ]
  },
  {
   "cell_type": "code",
   "execution_count": 414,
   "metadata": {},
   "outputs": [],
   "source": [
    "np.random.seed(1)\n",
    "x = np.random.normal(0,1,size=100)\n",
    "e = np.random.normal(0,1,size=100)"
   ]
  },
  {
   "cell_type": "markdown",
   "metadata": {},
   "source": [
    "**(b) Generate a response vector Y of length n = 100 according to the model $Y=β_0+β_1X+β_2X^2+β_3X^3+ε$ , where β0, β1, β2, and β3 are constants of your choice.**"
   ]
  },
  {
   "cell_type": "code",
   "execution_count": 415,
   "metadata": {},
   "outputs": [],
   "source": [
    "y_np = 2 + 2*x + 3*(x**2) + 2.5*(x**3) + e"
   ]
  },
  {
   "cell_type": "code",
   "execution_count": 416,
   "metadata": {},
   "outputs": [
    {
     "data": {
      "text/plain": [
       "<matplotlib.axes._subplots.AxesSubplot at 0x131a8fa90>"
      ]
     },
     "execution_count": 416,
     "metadata": {},
     "output_type": "execute_result"
    },
    {
     "data": {
      "image/png": "[encoded data removed]",
      "text/plain": [
       "<Figure size 432x288 with 1 Axes>"
      ]
     },
     "metadata": {
      "needs_background": "light"
     },
     "output_type": "display_data"
    }
   ],
   "source": [
    "sns.scatterplot(x,y_np)"
   ]
  },
  {
   "cell_type": "markdown",
   "metadata": {},
   "source": [
    "**(c) Use the regsubsets() function to perform best subset selection in order to choose the best model containing the predictors X,X2,...,X10. What is the best model obtained according to Cp, BIC, and adjusted R2? Show some plots to provide evidence for your answer, and report the coefficients of the best model obtained. Note you will need to use the data.frame() function to create a single data set containing both X and Y .**"
   ]
  },
  {
   "cell_type": "code",
   "execution_count": 417,
   "metadata": {},
   "outputs": [],
   "source": [
    "def get_model(k,X,y):\n",
    "    \n",
    "    #list available predictors\n",
    "    X_pred  = itertools.combinations(list(X.columns),k)\n",
    "    \n",
    "    # fit all models\n",
    "    models = []\n",
    "    for predictors_comb in X_pred:\n",
    "        X_smf = ' + '.join(predictors_comb)\n",
    "        f = '{} ~ {}'.format(y.columns[0],X_smf)\n",
    "        model = smf.ols(formula=f,data=pd.concat([X,y],axis=1)).fit()\n",
    "        models += [(f,model)]\n",
    "    return models\n",
    "\n",
    "def min_rss(statsmodels):\n",
    "    \"\"\"Return model with lowest Residual Sum of Squares (RSS)\"\"\"\n",
    "    return sorted(statsmodels, key=lambda tup: tup[1].ssr)[0]\n",
    "\n",
    "def max_adjr2(statsmodels):\n",
    "    \"\"\"Return model with max R-squared\"\"\"\n",
    "    return sorted(statsmodels, reverse=True, key=lambda tup: tup[1].rsquared_adj)[0]\n",
    "\n",
    "def min_bic(statsmodels):\n",
    "    \"\"\"Return model with min Bayes' Information Criteria\"\"\"\n",
    "    return sorted(statsmodels, reverse=False, key=lambda tup: tup[1].bic)[0]\n",
    "\n",
    "def min_aic(statsmodels):\n",
    "    \"\"\"Return model with min Akaike's Information Criteria\"\"\"\n",
    "    return sorted(statsmodels, reverse=False, key=lambda tup: tup[1].aic)[0]"
   ]
  },
  {
   "cell_type": "code",
   "execution_count": 418,
   "metadata": {},
   "outputs": [
    {
     "name": "stdout",
     "output_type": "stream",
     "text": [
      "Progress 1: done\n",
      "Progress 2: done\n",
      "Progress 3: done\n",
      "Progress 4: done\n",
      "Progress 5: done\n",
      "Progress 6: done\n",
      "Progress 7: done\n",
      "Progress 8: done\n",
      "Progress 9: done\n",
      "Progress 10: done\n"
     ]
    }
   ],
   "source": [
    "X = pd.DataFrame({'X': x,\n",
    "                  'X2': x**2,\n",
    "                  'X3': x**3,\n",
    "                  'X4': x**4,\n",
    "                  'X5': x**5,\n",
    "                  'X6': x**6,\n",
    "                  'X7': x**7,\n",
    "                  'X8': x**8,\n",
    "                  'X9': x**9,\n",
    "                  'X10': x**10})\n",
    "y = pd.DataFrame({'y': y_np})\n",
    "\n",
    "subset = []\n",
    "for i in range(1,len(X.columns)+1):\n",
    "    subset += [get_model(i,X,y)]\n",
    "    print('Progress {}: done'.format(i))"
   ]
  },
  {
   "cell_type": "code",
   "execution_count": 419,
   "metadata": {},
   "outputs": [
    {
     "data": {
      "text/html": [
       "<h3> Adjusted R^2 </h3>"
      ],
      "text/plain": [
       "<IPython.core.display.HTML object>"
      ]
     },
     "metadata": {},
     "output_type": "display_data"
    },
    {
     "data": {
      "image/png": "[encoded data removed]",
      "text/plain": [
       "<Figure size 432x288 with 1 Axes>"
      ]
     },
     "metadata": {
      "needs_background": "light"
     },
     "output_type": "display_data"
    },
    {
     "name": "stdout",
     "output_type": "stream",
     "text": [
      "Best selection model coef.:\n",
      "\n",
      "Intercept    2.298519\n",
      "X            2.659149\n",
      "X2           2.617578\n",
      "X5           2.279830\n",
      "X7          -0.684882\n",
      "X9           0.065720\n",
      "X10          0.001195\n",
      "dtype: float64\n"
     ]
    },
    {
     "data": {
      "text/html": [
       "<h3> Bayes Information Criteria </h3>"
      ],
      "text/plain": [
       "<IPython.core.display.HTML object>"
      ]
     },
     "metadata": {},
     "output_type": "display_data"
    },
    {
     "data": {
      "image/png": "[encoded data removed]",
      "text/plain": [
       "<Figure size 432x288 with 1 Axes>"
      ]
     },
     "metadata": {
      "needs_background": "light"
     },
     "output_type": "display_data"
    },
    {
     "name": "stdout",
     "output_type": "stream",
     "text": [
      "Best selection model coef.:\n",
      "\n",
      "Intercept    2.276949\n",
      "X            1.910076\n",
      "X2           2.657467\n",
      "X3           2.605378\n",
      "X6           0.020949\n",
      "dtype: float64\n"
     ]
    },
    {
     "data": {
      "text/html": [
       "<h3> Akaike's Information Criteria </h3>"
      ],
      "text/plain": [
       "<IPython.core.display.HTML object>"
      ]
     },
     "metadata": {},
     "output_type": "display_data"
    },
    {
     "data": {
      "image/png": "[encoded data removed]",
      "text/plain": [
       "<Figure size 432x288 with 1 Axes>"
      ]
     },
     "metadata": {
      "needs_background": "light"
     },
     "output_type": "display_data"
    },
    {
     "name": "stdout",
     "output_type": "stream",
     "text": [
      "Best selection model coef.:\n",
      "\n",
      "Intercept    2.276949\n",
      "X            1.910076\n",
      "X2           2.657467\n",
      "X3           2.605378\n",
      "X6           0.020949\n",
      "dtype: float64\n"
     ]
    }
   ],
   "source": [
    "k = np.arange(1,len(X.columns)+1)\n",
    "\n",
    "display(HTML('<h3> Adjusted R^2 </h3>' ))\n",
    "\n",
    "adjusted_r2 = [ max_adjr2(m)[1].rsquared_adj for m in subset ] \n",
    "# [1] because the first index is the \"model description while the second is the model itself\"\n",
    "\n",
    "sns.lineplot(x=k,y=adjusted_r2)\n",
    "plt.xlabel(\"Number of Predictors\")\n",
    "plt.ylabel(\"Adjusted $R^2$\")\n",
    "plt.show()\n",
    "\n",
    "# select best model\n",
    "coef_r2 =   [ [max_adjr2(m)[1].rsquared_adj,max_adjr2(m)[1].params ] for m in subset ]\n",
    "print(\"Best selection model coef.:\\n\\n{}\".format(max(coef_r2)[1]))\n",
    "\n",
    "display(HTML('<h3> Bayes Information Criteria </h3>' ))\n",
    "\n",
    "bayes_inf = [min_bic(m)[1].bic for m in subset]\n",
    "sns.lineplot(x=k,y=bayes_inf)\n",
    "plt.xlabel(\"Number of Predictors\")\n",
    "plt.ylabel(\"BIC\")\n",
    "plt.show()\n",
    "\n",
    "coef_bic =   [ [min_bic(m)[1].bic,min_bic(m)[1].params] for m in subset ]\n",
    "print(\"Best selection model coef.:\\n\\n{}\".format(min(coef_bic)[1]))\n",
    "\n",
    "display(HTML('<h3> Akaike\\'s Information Criteria </h3>' ))\n",
    "\n",
    "AIC = [min_aic(m)[1].bic for m in subset]\n",
    "sns.lineplot(x=k,y=AIC)\n",
    "plt.xlabel(\"Number of Predictors\")\n",
    "plt.ylabel(\"AIC\")\n",
    "plt.show()\n",
    "\n",
    "coef_aic =   [ [min_aic(m)[1].aic,min_aic(m)[1].params] for m in subset ]\n",
    "print(\"Best selection model coef.:\\n\\n{}\".format(min(coef_aic)[1]))\n"
   ]
  },
  {
   "cell_type": "markdown",
   "metadata": {},
   "source": [
    "RSS chooses a model with too many features as expected due to overfitting. BIC and AIC try to compensate for overfitting, and do a reasonable job choosing a model with one superfluous feature."
   ]
  },
  {
   "cell_type": "markdown",
   "metadata": {},
   "source": [
    "**(d) Repeat (c), using forward stepwise selection and also using backwards stepwise selection. How does your answer compare to the results in (c)?**"
   ]
  },
  {
   "cell_type": "code",
   "execution_count": 420,
   "metadata": {},
   "outputs": [],
   "source": [
    "def fforward_stepwise(X,Y,scorer='ssr',results=[(0, [])]):\n",
    "    p_all = list(X.columns)\n",
    "    p_used = results[-1][1]\n",
    "    p_unused = [p for p in p_all if p not in p_used]\n",
    "    print(p_unused)\n",
    "    return\n",
    "    \n",
    "    #end recursion\n",
    "    if not p_unused:\n",
    "        scores = [r[0] for r in results]\n",
    "        preds  = [r[1] for r in results]\n",
    "        return pd.DataFrame({scorer: scores, 'predictors': preds}).drop(0)\n",
    "    \n",
    "    #Get score \n",
    "    models_fits = []\n",
    "    for p in p_unused:\n",
    "        f = '{} ~ {}'.format(Y.columns[0],'+'.join([p]+p_used))\n",
    "        #fit model\n",
    "        model_fit = smf.ols(formula= f,data= pd.concat([X,Y],axis=1)).fit()\n",
    "        models_fits += [(model_fit,[p]+p_used)]\n",
    "    \n",
    "    if scorer == 'ssr':\n",
    "        print(\"ssr\")\n",
    "        best_model = sorted(models_fits, key=lambda tup: tup[0].ssr)[0]\n",
    "        best_score = (best_model[0].ssr, best_model[1])\n",
    "    elif scorer == 'rsquared_adj':       \n",
    "        best_model = sorted(models_fits, key=lambda tup: tup[0].rsquared_adj)[-1]\n",
    "        best_score = (best_model[0].rsquared_adj, best_model[1])\n",
    "    elif scorer == 'bic':       \n",
    "        best_model = sorted(models_fits, key=lambda tup: tup[0].bic)[0]\n",
    "        best_score = (best_model[0].bic, best_model[1]) \n",
    "    elif scorer == 'aic':\n",
    "        best_model = sorted(models_fits, key=lambda tup: tup[0].aic)[0]\n",
    "        best_score = (best_model[0].aic, best_model[1]) \n",
    "\n",
    "    new_results = results + [best_score]\n",
    "    # Recursive call to self\n",
    "    return forward_stepwise(X, y, scorer, new_results)\n",
    "\n",
    "def subset_analysis(df, scorer):\n",
    "    \"\"\"Renders results from forward_stepwise() and backward_stepwise()\"\"\"\n",
    "    df['predictors_str'] = df['predictors'].astype(str)\n",
    "    \n",
    "    ax = sns.lineplot(x='predictors_str', y=scorer, data=df, sort=False)\n",
    "    plt.xticks(rotation=90)\n",
    "    plt.show();\n",
    "    \n",
    "    if scorer == 'rsquared_adj':\n",
    "        display(df[df[scorer] ==  df[scorer].max()].drop('predictors_str', axis=1))\n",
    "    else:\n",
    "        display(df[df[scorer] ==  df[scorer].min()].drop('predictors_str', axis=1))\n",
    "    "
   ]
  },
  {
   "cell_type": "code",
   "execution_count": 421,
   "metadata": {},
   "outputs": [],
   "source": [
    "def backward_stepwise(X,Y,scorer='ssr',results=[]):\n",
    "    p_all = list(X.columns)\n",
    "    if not results:\n",
    "        # fit all\n",
    "        f = '{} ~ {}'.format(Y.columns[0],'+'.join(p_all))\n",
    "        model = smf.ols(formula=f,data=pd.concat([X,Y],axis=1)).fit()\n",
    "        #begin backwards\n",
    "        if scorer== 'ssr':\n",
    "            return backward_stepwise(X,Y,scorer,results=[(model.ssr,p_all)])\n",
    "        elif scorer== 'bic':\n",
    "            return backward_stepwise(X,Y,scorer,results=[(model.bic,p_all)])\n",
    "        elif scorer =='aic':\n",
    "            return backward_stepwise(X,Y,scorer,results=[(model.aic,p_all)])\n",
    "        elif scorer == 'rsquared_adj':\n",
    "            return backward_stepwise(X,Y,scorer,results=[(model.rsquared_adj,p_all)])\n",
    "    else:\n",
    "        p_used = results[-1][1]\n",
    "    \n",
    "    if len(p_used)==1:\n",
    "        scores = [r[0] for r in results]\n",
    "        models = [r[1] for r in results]\n",
    "        return pd.DataFrame({scorer:scores,'predictors':models})\n",
    "\n",
    "    r=[]\n",
    "    #get RSS for each possible predictor to be removed:\n",
    "    for p in p_used:\n",
    "        p_test = [i for i in p_used if i!=p]\n",
    "        f = '{} ~ {}'.format(Y.columns[0],'+'.join(p_test))\n",
    "        model_2 = smf.ols(formula=f,data=pd.concat([X,Y],axis=1)).fit()\n",
    "        r += [(model_2,p_test)]\n",
    "    \n",
    "    if scorer== 'ssr':\n",
    "        best_model = sorted(r,key=lambda tup:tup[0].ssr)[0]\n",
    "        best_score = (best_model[0].ssr,best_model[1])\n",
    "    elif scorer == 'rsquared_adj':       \n",
    "        best_model = sorted(r, key=lambda tup: tup[0].rsquared_adj)[-1]\n",
    "        best_score = (best_model[0].rsquared_adj, best_model[1])\n",
    "    elif scorer== 'bic':\n",
    "        best_model = sorted(r,key=lambda tup:tup[0].bic)[0]\n",
    "        best_score = (best_model[0].bic,best_model[1])\n",
    "    elif scorer == 'aic':\n",
    "        best_model = sorted(r,key=lambda tup:tup[0].aic)[0]\n",
    "        best_score = (best_model[0].aic,best_model[1])\n",
    "        \n",
    "    new_results = results + [best_score]\n",
    "    \n",
    "    return backward_stepwise(X,Y,scorer,new_results)\n",
    "    \n",
    "    \n",
    "    "
   ]
  },
  {
   "cell_type": "code",
   "execution_count": 422,
   "metadata": {},
   "outputs": [
    {
     "data": {
      "text/html": [
       "<div>\n",
       "<style scoped>\n",
       "    .dataframe tbody tr th:only-of-type {\n",
       "        vertical-align: middle;\n",
       "    }\n",
       "\n",
       "    .dataframe tbody tr th {\n",
       "        vertical-align: top;\n",
       "    }\n",
       "\n",
       "    .dataframe thead th {\n",
       "        text-align: right;\n",
       "    }\n",
       "</style>\n",
       "<table border=\"1\" class=\"dataframe\">\n",
       "  <thead>\n",
       "    <tr style=\"text-align: right;\">\n",
       "      <th></th>\n",
       "      <th>rsquared_adj</th>\n",
       "      <th>predictors</th>\n",
       "    </tr>\n",
       "  </thead>\n",
       "  <tbody>\n",
       "    <tr>\n",
       "      <td>0</td>\n",
       "      <td>0.989162</td>\n",
       "      <td>[X, X2, X3, X4, X5, X6, X7, X8, X9, X10]</td>\n",
       "    </tr>\n",
       "    <tr>\n",
       "      <td>1</td>\n",
       "      <td>0.989267</td>\n",
       "      <td>[X, X2, X4, X5, X6, X7, X8, X9, X10]</td>\n",
       "    </tr>\n",
       "    <tr>\n",
       "      <td>2</td>\n",
       "      <td>0.989343</td>\n",
       "      <td>[X, X2, X4, X5, X6, X7, X8, X9]</td>\n",
       "    </tr>\n",
       "    <tr>\n",
       "      <td>3</td>\n",
       "      <td>0.989431</td>\n",
       "      <td>[X, X2, X4, X5, X6, X7, X9]</td>\n",
       "    </tr>\n",
       "    <tr>\n",
       "      <td>4</td>\n",
       "      <td>0.989395</td>\n",
       "      <td>[X, X2, X5, X6, X7, X9]</td>\n",
       "    </tr>\n",
       "    <tr>\n",
       "      <td>5</td>\n",
       "      <td>0.988398</td>\n",
       "      <td>[X, X2, X5, X7, X9]</td>\n",
       "    </tr>\n",
       "    <tr>\n",
       "      <td>6</td>\n",
       "      <td>0.987560</td>\n",
       "      <td>[X, X2, X5, X7]</td>\n",
       "    </tr>\n",
       "    <tr>\n",
       "      <td>7</td>\n",
       "      <td>0.979798</td>\n",
       "      <td>[X, X2, X5]</td>\n",
       "    </tr>\n",
       "    <tr>\n",
       "      <td>8</td>\n",
       "      <td>0.887135</td>\n",
       "      <td>[X2, X5]</td>\n",
       "    </tr>\n",
       "    <tr>\n",
       "      <td>9</td>\n",
       "      <td>0.675278</td>\n",
       "      <td>[X5]</td>\n",
       "    </tr>\n",
       "  </tbody>\n",
       "</table>\n",
       "</div>"
      ],
      "text/plain": [
       "   rsquared_adj                                predictors\n",
       "0      0.989162  [X, X2, X3, X4, X5, X6, X7, X8, X9, X10]\n",
       "1      0.989267      [X, X2, X4, X5, X6, X7, X8, X9, X10]\n",
       "2      0.989343           [X, X2, X4, X5, X6, X7, X8, X9]\n",
       "3      0.989431               [X, X2, X4, X5, X6, X7, X9]\n",
       "4      0.989395                   [X, X2, X5, X6, X7, X9]\n",
       "5      0.988398                       [X, X2, X5, X7, X9]\n",
       "6      0.987560                           [X, X2, X5, X7]\n",
       "7      0.979798                               [X, X2, X5]\n",
       "8      0.887135                                  [X2, X5]\n",
       "9      0.675278                                      [X5]"
      ]
     },
     "execution_count": 422,
     "metadata": {},
     "output_type": "execute_result"
    }
   ],
   "source": [
    "backward_stepwise(X,y,scorer='rsquared_adj')"
   ]
  },
  {
   "cell_type": "markdown",
   "metadata": {},
   "source": [
    "## Forward Stepwise"
   ]
  },
  {
   "cell_type": "code",
   "execution_count": 423,
   "metadata": {},
   "outputs": [
    {
     "data": {
      "text/html": [
       "<h4>Adjusted R^2</h4>"
      ],
      "text/plain": [
       "<IPython.core.display.HTML object>"
      ]
     },
     "metadata": {},
     "output_type": "display_data"
    },
    {
     "data": {
      "image/png": "[encoded data removed]",
      "text/plain": [
       "<Figure size 432x288 with 1 Axes>"
      ]
     },
     "metadata": {
      "needs_background": "light"
     },
     "output_type": "display_data"
    },
    {
     "data": {
      "text/html": [
       "<div>\n",
       "<style scoped>\n",
       "    .dataframe tbody tr th:only-of-type {\n",
       "        vertical-align: middle;\n",
       "    }\n",
       "\n",
       "    .dataframe tbody tr th {\n",
       "        vertical-align: top;\n",
       "    }\n",
       "\n",
       "    .dataframe thead th {\n",
       "        text-align: right;\n",
       "    }\n",
       "</style>\n",
       "<table border=\"1\" class=\"dataframe\">\n",
       "  <thead>\n",
       "    <tr style=\"text-align: right;\">\n",
       "      <th></th>\n",
       "      <th>rsquared_adj</th>\n",
       "      <th>predictors</th>\n",
       "    </tr>\n",
       "  </thead>\n",
       "  <tbody>\n",
       "    <tr>\n",
       "      <td>4</td>\n",
       "      <td>0.989408</td>\n",
       "      <td>[X6, X, X2, X3]</td>\n",
       "    </tr>\n",
       "  </tbody>\n",
       "</table>\n",
       "</div>"
      ],
      "text/plain": [
       "   rsquared_adj       predictors\n",
       "4      0.989408  [X6, X, X2, X3]"
      ]
     },
     "metadata": {},
     "output_type": "display_data"
    },
    {
     "data": {
      "text/html": [
       "<h4>Bayes' Information Criteria</h4>"
      ],
      "text/plain": [
       "<IPython.core.display.HTML object>"
      ]
     },
     "metadata": {},
     "output_type": "display_data"
    },
    {
     "data": {
      "image/png": "[encoded data removed]",
      "text/plain": [
       "<Figure size 432x288 with 1 Axes>"
      ]
     },
     "metadata": {
      "needs_background": "light"
     },
     "output_type": "display_data"
    },
    {
     "data": {
      "text/html": [
       "<div>\n",
       "<style scoped>\n",
       "    .dataframe tbody tr th:only-of-type {\n",
       "        vertical-align: middle;\n",
       "    }\n",
       "\n",
       "    .dataframe tbody tr th {\n",
       "        vertical-align: top;\n",
       "    }\n",
       "\n",
       "    .dataframe thead th {\n",
       "        text-align: right;\n",
       "    }\n",
       "</style>\n",
       "<table border=\"1\" class=\"dataframe\">\n",
       "  <thead>\n",
       "    <tr style=\"text-align: right;\">\n",
       "      <th></th>\n",
       "      <th>bic</th>\n",
       "      <th>predictors</th>\n",
       "    </tr>\n",
       "  </thead>\n",
       "  <tbody>\n",
       "    <tr>\n",
       "      <td>4</td>\n",
       "      <td>284.249198</td>\n",
       "      <td>[X6, X, X2, X3]</td>\n",
       "    </tr>\n",
       "  </tbody>\n",
       "</table>\n",
       "</div>"
      ],
      "text/plain": [
       "          bic       predictors\n",
       "4  284.249198  [X6, X, X2, X3]"
      ]
     },
     "metadata": {},
     "output_type": "display_data"
    },
    {
     "data": {
      "text/html": [
       "<h4>Akaike's Information Criteria</h4>"
      ],
      "text/plain": [
       "<IPython.core.display.HTML object>"
      ]
     },
     "metadata": {},
     "output_type": "display_data"
    },
    {
     "data": {
      "image/png": "[encoded data removed]",
      "text/plain": [
       "<Figure size 432x288 with 1 Axes>"
      ]
     },
     "metadata": {
      "needs_background": "light"
     },
     "output_type": "display_data"
    },
    {
     "data": {
      "text/html": [
       "<div>\n",
       "<style scoped>\n",
       "    .dataframe tbody tr th:only-of-type {\n",
       "        vertical-align: middle;\n",
       "    }\n",
       "\n",
       "    .dataframe tbody tr th {\n",
       "        vertical-align: top;\n",
       "    }\n",
       "\n",
       "    .dataframe thead th {\n",
       "        text-align: right;\n",
       "    }\n",
       "</style>\n",
       "<table border=\"1\" class=\"dataframe\">\n",
       "  <thead>\n",
       "    <tr style=\"text-align: right;\">\n",
       "      <th></th>\n",
       "      <th>aic</th>\n",
       "      <th>predictors</th>\n",
       "    </tr>\n",
       "  </thead>\n",
       "  <tbody>\n",
       "    <tr>\n",
       "      <td>4</td>\n",
       "      <td>271.223347</td>\n",
       "      <td>[X6, X, X2, X3]</td>\n",
       "    </tr>\n",
       "  </tbody>\n",
       "</table>\n",
       "</div>"
      ],
      "text/plain": [
       "          aic       predictors\n",
       "4  271.223347  [X6, X, X2, X3]"
      ]
     },
     "metadata": {},
     "output_type": "display_data"
    }
   ],
   "source": [
    "# adjr2\n",
    "# ------------------------------------------------\n",
    "display(HTML('<h4>Adjusted R^2</h4>'))\n",
    "scorer = 'rsquared_adj'\n",
    "subset_analysis(forward_stepwise(X, y, scorer=scorer), scorer)\n",
    "\n",
    "# Bayes' Information Criteria (BIC)\n",
    "# ------------------------------------------------\n",
    "display(HTML('<h4>Bayes\\' Information Criteria</h4>'))\n",
    "scorer = 'bic'\n",
    "subset_analysis(forward_stepwise(X, y, scorer=scorer), scorer)\n",
    "\n",
    "# Akaike's Information Criteria (AIC/ C_p)\n",
    "# ------------------------------------------------\n",
    "display(HTML('<h4>Akaike\\'s Information Criteria</h4>'))\n",
    "scorer = 'aic'\n",
    "subset_analysis(forward_stepwise(X, y, scorer=scorer), scorer)"
   ]
  },
  {
   "cell_type": "markdown",
   "metadata": {},
   "source": [
    "## Backward Stepwise"
   ]
  },
  {
   "cell_type": "code",
   "execution_count": 424,
   "metadata": {},
   "outputs": [
    {
     "data": {
      "text/html": [
       "<h4>Adjusted R^2</h4>"
      ],
      "text/plain": [
       "<IPython.core.display.HTML object>"
      ]
     },
     "metadata": {},
     "output_type": "display_data"
    },
    {
     "data": {
      "image/png": "[encoded data removed]",
      "text/plain": [
       "<Figure size 432x288 with 1 Axes>"
      ]
     },
     "metadata": {
      "needs_background": "light"
     },
     "output_type": "display_data"
    },
    {
     "data": {
      "text/html": [
       "<div>\n",
       "<style scoped>\n",
       "    .dataframe tbody tr th:only-of-type {\n",
       "        vertical-align: middle;\n",
       "    }\n",
       "\n",
       "    .dataframe tbody tr th {\n",
       "        vertical-align: top;\n",
       "    }\n",
       "\n",
       "    .dataframe thead th {\n",
       "        text-align: right;\n",
       "    }\n",
       "</style>\n",
       "<table border=\"1\" class=\"dataframe\">\n",
       "  <thead>\n",
       "    <tr style=\"text-align: right;\">\n",
       "      <th></th>\n",
       "      <th>rsquared_adj</th>\n",
       "      <th>predictors</th>\n",
       "    </tr>\n",
       "  </thead>\n",
       "  <tbody>\n",
       "    <tr>\n",
       "      <td>3</td>\n",
       "      <td>0.989431</td>\n",
       "      <td>[X, X2, X4, X5, X6, X7, X9]</td>\n",
       "    </tr>\n",
       "  </tbody>\n",
       "</table>\n",
       "</div>"
      ],
      "text/plain": [
       "   rsquared_adj                   predictors\n",
       "3      0.989431  [X, X2, X4, X5, X6, X7, X9]"
      ]
     },
     "metadata": {},
     "output_type": "display_data"
    },
    {
     "data": {
      "text/html": [
       "<h4>Bayes' Information Criteria</h4>"
      ],
      "text/plain": [
       "<IPython.core.display.HTML object>"
      ]
     },
     "metadata": {},
     "output_type": "display_data"
    },
    {
     "data": {
      "image/png": "[encoded data removed]",
      "text/plain": [
       "<Figure size 432x288 with 1 Axes>"
      ]
     },
     "metadata": {
      "needs_background": "light"
     },
     "output_type": "display_data"
    },
    {
     "data": {
      "text/html": [
       "<div>\n",
       "<style scoped>\n",
       "    .dataframe tbody tr th:only-of-type {\n",
       "        vertical-align: middle;\n",
       "    }\n",
       "\n",
       "    .dataframe tbody tr th {\n",
       "        vertical-align: top;\n",
       "    }\n",
       "\n",
       "    .dataframe thead th {\n",
       "        text-align: right;\n",
       "    }\n",
       "</style>\n",
       "<table border=\"1\" class=\"dataframe\">\n",
       "  <thead>\n",
       "    <tr style=\"text-align: right;\">\n",
       "      <th></th>\n",
       "      <th>bic</th>\n",
       "      <th>predictors</th>\n",
       "    </tr>\n",
       "  </thead>\n",
       "  <tbody>\n",
       "    <tr>\n",
       "      <td>4</td>\n",
       "      <td>291.450514</td>\n",
       "      <td>[X, X2, X5, X6, X7, X9]</td>\n",
       "    </tr>\n",
       "  </tbody>\n",
       "</table>\n",
       "</div>"
      ],
      "text/plain": [
       "          bic               predictors\n",
       "4  291.450514  [X, X2, X5, X6, X7, X9]"
      ]
     },
     "metadata": {},
     "output_type": "display_data"
    },
    {
     "data": {
      "text/html": [
       "<h4>Akaike's Information Criteria</h4>"
      ],
      "text/plain": [
       "<IPython.core.display.HTML object>"
      ]
     },
     "metadata": {},
     "output_type": "display_data"
    },
    {
     "data": {
      "image/png": "[encoded data removed]",
      "text/plain": [
       "<Figure size 432x288 with 1 Axes>"
      ]
     },
     "metadata": {
      "needs_background": "light"
     },
     "output_type": "display_data"
    },
    {
     "data": {
      "text/html": [
       "<div>\n",
       "<style scoped>\n",
       "    .dataframe tbody tr th:only-of-type {\n",
       "        vertical-align: middle;\n",
       "    }\n",
       "\n",
       "    .dataframe tbody tr th {\n",
       "        vertical-align: top;\n",
       "    }\n",
       "\n",
       "    .dataframe thead th {\n",
       "        text-align: right;\n",
       "    }\n",
       "</style>\n",
       "<table border=\"1\" class=\"dataframe\">\n",
       "  <thead>\n",
       "    <tr style=\"text-align: right;\">\n",
       "      <th></th>\n",
       "      <th>aic</th>\n",
       "      <th>predictors</th>\n",
       "    </tr>\n",
       "  </thead>\n",
       "  <tbody>\n",
       "    <tr>\n",
       "      <td>4</td>\n",
       "      <td>273.214322</td>\n",
       "      <td>[X, X2, X5, X6, X7, X9]</td>\n",
       "    </tr>\n",
       "  </tbody>\n",
       "</table>\n",
       "</div>"
      ],
      "text/plain": [
       "          aic               predictors\n",
       "4  273.214322  [X, X2, X5, X6, X7, X9]"
      ]
     },
     "metadata": {},
     "output_type": "display_data"
    }
   ],
   "source": [
    "display(HTML('<h4>Adjusted R^2</h4>'))\n",
    "scorer = 'rsquared_adj'\n",
    "subset_analysis(backward_stepwise(X, y, scorer=scorer), scorer)\n",
    "\n",
    "# Bayes' Information Criteria (BIC)\n",
    "# ------------------------------------------------\n",
    "display(HTML('<h4>Bayes\\' Information Criteria</h4>'))\n",
    "scorer = 'bic'\n",
    "subset_analysis(backward_stepwise(X, y, scorer=scorer), scorer)\n",
    "\n",
    "# Akaike's Information Criteria (AIC/ C_p)\n",
    "# ------------------------------------------------\n",
    "display(HTML('<h4>Akaike\\'s Information Criteria</h4>'))\n",
    "scorer = 'aic'\n",
    "subset_analysis(backward_stepwise(X, y, scorer=scorer), scorer)"
   ]
  },
  {
   "cell_type": "markdown",
   "metadata": {},
   "source": [
    "Comment:\n",
    "\n",
    "Forward stepwise selection chooses the same models as best susbset selection for all metrics.\n",
    "\n",
    "Backward stepwise selection tends to select overly complex models in this setting with 3-4 superfluous features depending on the metric used.\n",
    "\n",
    "Revision note: It seems somewhat down to chance as to which approach – forward or backward – will work best in a giving setting. In reality without simulation we won't have the luxury of knowing the true optimum, so how do we choose?"
   ]
  },
  {
   "cell_type": "markdown",
   "metadata": {},
   "source": [
    "**(e) Now fit a lasso model to the simulated data, again using X,X2, . . . , X 10 as predictors. Use cross-validation to select the optimal value of λ. Create plots of the cross-validation error as a function of λ. Report the resulting coefficient estimates, and discuss the results obtained.**"
   ]
  },
  {
   "cell_type": "code",
   "execution_count": 448,
   "metadata": {},
   "outputs": [],
   "source": [
    "def mse(y_hat, y):\n",
    "    \"\"\"Calculate Mean Squared Error\"\"\"\n",
    "    return np.sum(np.square(y_hat - y)) / y.size\n",
    "    \n",
    "def lasso_cv(X,y,λ, k):\n",
    "    X_folds = np.array_split(X, k)\n",
    "    y_folds = np.array_split(y, k)\n",
    "    \n",
    "    MSEs = []\n",
    "    for f in np.arange(len(X_folds)):\n",
    "        # Create training and test sets\n",
    "        X_test  = X_folds[f]\n",
    "        y_test  = y_folds[f]\n",
    "        X_train = X.drop(X_folds[f].index)\n",
    "        y_train = y.drop(y_folds[f].index)\n",
    "        \n",
    "        # Fit model\n",
    "        model = linear_model.Lasso(alpha=λ, fit_intercept=True, normalize=False, max_iter=1000000).fit(X_train, y_train)\n",
    "\n",
    "        # Measure MSE\n",
    "        y_hat = model.predict(X_test)\n",
    "        MSEs += [mse(y_hat, y_test['y'])]\n",
    "    return MSEs\n",
    "\n",
    "        \n",
    "        "
   ]
  },
  {
   "cell_type": "code",
   "execution_count": 457,
   "metadata": {},
   "outputs": [
    {
     "data": {
      "text/html": [
       "<div>\n",
       "<style scoped>\n",
       "    .dataframe tbody tr th:only-of-type {\n",
       "        vertical-align: middle;\n",
       "    }\n",
       "\n",
       "    .dataframe tbody tr th {\n",
       "        vertical-align: top;\n",
       "    }\n",
       "\n",
       "    .dataframe thead th {\n",
       "        text-align: right;\n",
       "    }\n",
       "</style>\n",
       "<table border=\"1\" class=\"dataframe\">\n",
       "  <thead>\n",
       "    <tr style=\"text-align: right;\">\n",
       "      <th></th>\n",
       "      <th>λ</th>\n",
       "      <th>MSE</th>\n",
       "    </tr>\n",
       "  </thead>\n",
       "  <tbody>\n",
       "    <tr>\n",
       "      <td>19</td>\n",
       "      <td>0.19</td>\n",
       "      <td>1.814544</td>\n",
       "    </tr>\n",
       "  </tbody>\n",
       "</table>\n",
       "</div>"
      ],
      "text/plain": [
       "       λ       MSE\n",
       "19  0.19  1.814544"
      ]
     },
     "metadata": {},
     "output_type": "display_data"
    },
    {
     "data": {
      "image/png": "[encoded data removed]",
      "text/plain": [
       "<Figure size 432x288 with 1 Axes>"
      ]
     },
     "metadata": {
      "needs_background": "light"
     },
     "output_type": "display_data"
    }
   ],
   "source": [
    "lambeda = np.arange(0,1,0.01)\n",
    "results= []\n",
    "for lam in lambeda:\n",
    "    results += [np.mean(lasso_cv(X,y,lam,10))]\n",
    "\n",
    "data=pd.DataFrame({'λ': lambeda, 'MSE': results})\n",
    "sns.scatterplot(x='λ', y='MSE',data=data );\n",
    "display(data[data['MSE']==data['MSE'].min()])\n",
    "\n",
    "\n",
    "    "
   ]
  },
  {
   "cell_type": "code",
   "execution_count": 458,
   "metadata": {},
   "outputs": [
    {
     "data": {
      "image/png": "[encoded data removed]",
      "text/plain": [
       "<Figure size 432x288 with 1 Axes>"
      ]
     },
     "metadata": {
      "needs_background": "light"
     },
     "output_type": "display_data"
    },
    {
     "data": {
      "text/html": [
       "<div>\n",
       "<style scoped>\n",
       "    .dataframe tbody tr th:only-of-type {\n",
       "        vertical-align: middle;\n",
       "    }\n",
       "\n",
       "    .dataframe tbody tr th {\n",
       "        vertical-align: top;\n",
       "    }\n",
       "\n",
       "    .dataframe thead th {\n",
       "        text-align: right;\n",
       "    }\n",
       "</style>\n",
       "<table border=\"1\" class=\"dataframe\">\n",
       "  <thead>\n",
       "    <tr style=\"text-align: right;\">\n",
       "      <th></th>\n",
       "      <th>feature</th>\n",
       "      <th>coefficient</th>\n",
       "    </tr>\n",
       "  </thead>\n",
       "  <tbody>\n",
       "    <tr>\n",
       "      <td>0</td>\n",
       "      <td>X</td>\n",
       "      <td>1.823572</td>\n",
       "    </tr>\n",
       "    <tr>\n",
       "      <td>1</td>\n",
       "      <td>X2</td>\n",
       "      <td>0.454881</td>\n",
       "    </tr>\n",
       "    <tr>\n",
       "      <td>2</td>\n",
       "      <td>X3</td>\n",
       "      <td>1.802128</td>\n",
       "    </tr>\n",
       "    <tr>\n",
       "      <td>3</td>\n",
       "      <td>X4</td>\n",
       "      <td>0.847043</td>\n",
       "    </tr>\n",
       "    <tr>\n",
       "      <td>4</td>\n",
       "      <td>X5</td>\n",
       "      <td>0.373082</td>\n",
       "    </tr>\n",
       "    <tr>\n",
       "      <td>5</td>\n",
       "      <td>X6</td>\n",
       "      <td>0.000000</td>\n",
       "    </tr>\n",
       "    <tr>\n",
       "      <td>6</td>\n",
       "      <td>X7</td>\n",
       "      <td>0.000000</td>\n",
       "    </tr>\n",
       "    <tr>\n",
       "      <td>7</td>\n",
       "      <td>X8</td>\n",
       "      <td>-0.000000</td>\n",
       "    </tr>\n",
       "    <tr>\n",
       "      <td>8</td>\n",
       "      <td>X9</td>\n",
       "      <td>-0.009186</td>\n",
       "    </tr>\n",
       "    <tr>\n",
       "      <td>9</td>\n",
       "      <td>X10</td>\n",
       "      <td>-0.002988</td>\n",
       "    </tr>\n",
       "  </tbody>\n",
       "</table>\n",
       "</div>"
      ],
      "text/plain": [
       "  feature  coefficient\n",
       "0       X     1.823572\n",
       "1      X2     0.454881\n",
       "2      X3     1.802128\n",
       "3      X4     0.847043\n",
       "4      X5     0.373082\n",
       "5      X6     0.000000\n",
       "6      X7     0.000000\n",
       "7      X8    -0.000000\n",
       "8      X9    -0.009186\n",
       "9     X10    -0.002988"
      ]
     },
     "metadata": {},
     "output_type": "display_data"
    }
   ],
   "source": [
    "lamb = min(zip(MSEs, lambdas))[1]\n",
    "model = linear_model.Lasso(alpha=lamb, fit_intercept=True, normalize=False, max_iter=1000000).fit(X, y)\n",
    "df = pd.DataFrame({'feature': X.columns, 'coefficient': model.coef_})\n",
    "# plot\n",
    "ax = sns.barplot(x='coefficient', y='feature', data=df);\n",
    "plt.xticks(rotation=90)\n",
    "plt.show();\n",
    "display(df)"
   ]
  },
  {
   "cell_type": "markdown",
   "metadata": {},
   "source": [
    "Here the Lasso selects the correct features plus 4 superfluous paramaeters – 2 of which have ver low coeeficients."
   ]
  },
  {
   "cell_type": "markdown",
   "metadata": {},
   "source": [
    "**Let's apply the normalization feature of sklearn**"
   ]
  },
  {
   "cell_type": "code",
   "execution_count": 461,
   "metadata": {},
   "outputs": [],
   "source": [
    "def mse(y_hat, y):\n",
    "    \"\"\"Calculate Mean Squared Error\"\"\"\n",
    "    return np.sum(np.square(y_hat - y)) / y.size\n",
    "    \n",
    "def lasso_cv(X,y,λ, k):\n",
    "    X_folds = np.array_split(X, k)\n",
    "    y_folds = np.array_split(y, k)\n",
    "    \n",
    "    MSEs = []\n",
    "    for f in np.arange(len(X_folds)):\n",
    "        # Create training and test sets\n",
    "        X_test  = X_folds[f]\n",
    "        y_test  = y_folds[f]\n",
    "        X_train = X.drop(X_folds[f].index)\n",
    "        y_train = y.drop(y_folds[f].index)\n",
    "        \n",
    "        # Fit model\n",
    "        model = linear_model.Lasso(alpha=λ, fit_intercept=True, normalize=True, max_iter=1000000).fit(X_train, y_train)\n",
    "\n",
    "        # Measure MSE\n",
    "        y_hat = model.predict(X_test)\n",
    "        MSEs += [mse(y_hat, y_test['y'])]\n",
    "    return MSEs\n",
    "\n",
    "        \n",
    "        "
   ]
  },
  {
   "cell_type": "code",
   "execution_count": 465,
   "metadata": {},
   "outputs": [
    {
     "data": {
      "text/html": [
       "<div>\n",
       "<style scoped>\n",
       "    .dataframe tbody tr th:only-of-type {\n",
       "        vertical-align: middle;\n",
       "    }\n",
       "\n",
       "    .dataframe tbody tr th {\n",
       "        vertical-align: top;\n",
       "    }\n",
       "\n",
       "    .dataframe thead th {\n",
       "        text-align: right;\n",
       "    }\n",
       "</style>\n",
       "<table border=\"1\" class=\"dataframe\">\n",
       "  <thead>\n",
       "    <tr style=\"text-align: right;\">\n",
       "      <th></th>\n",
       "      <th>λ</th>\n",
       "      <th>MSE</th>\n",
       "    </tr>\n",
       "  </thead>\n",
       "  <tbody>\n",
       "    <tr>\n",
       "      <td>1</td>\n",
       "      <td>0.002</td>\n",
       "      <td>0.889607</td>\n",
       "    </tr>\n",
       "  </tbody>\n",
       "</table>\n",
       "</div>"
      ],
      "text/plain": [
       "       λ       MSE\n",
       "1  0.002  0.889607"
      ]
     },
     "metadata": {},
     "output_type": "display_data"
    },
    {
     "data": {
      "image/png": "[encoded data removed]",
      "text/plain": [
       "<Figure size 432x288 with 1 Axes>"
      ]
     },
     "metadata": {
      "needs_background": "light"
     },
     "output_type": "display_data"
    }
   ],
   "source": [
    "lambeda = np.arange(0.001,0.2,0.001)\n",
    "results= []\n",
    "for lam in lambeda:\n",
    "    results += [np.mean(lasso_cv(X,y,lam,10))]\n",
    "\n",
    "data=pd.DataFrame({'λ': lambeda, 'MSE': results})\n",
    "sns.scatterplot(x='λ', y='MSE',data=data );\n",
    "display(data[data['MSE']==data['MSE'].min()])"
   ]
  },
  {
   "cell_type": "code",
   "execution_count": 466,
   "metadata": {},
   "outputs": [
    {
     "data": {
      "image/png": "[encoded data removed]",
      "text/plain": [
       "<Figure size 432x288 with 1 Axes>"
      ]
     },
     "metadata": {
      "needs_background": "light"
     },
     "output_type": "display_data"
    },
    {
     "data": {
      "text/html": [
       "<div>\n",
       "<style scoped>\n",
       "    .dataframe tbody tr th:only-of-type {\n",
       "        vertical-align: middle;\n",
       "    }\n",
       "\n",
       "    .dataframe tbody tr th {\n",
       "        vertical-align: top;\n",
       "    }\n",
       "\n",
       "    .dataframe thead th {\n",
       "        text-align: right;\n",
       "    }\n",
       "</style>\n",
       "<table border=\"1\" class=\"dataframe\">\n",
       "  <thead>\n",
       "    <tr style=\"text-align: right;\">\n",
       "      <th></th>\n",
       "      <th>feature</th>\n",
       "      <th>coefficient</th>\n",
       "    </tr>\n",
       "  </thead>\n",
       "  <tbody>\n",
       "    <tr>\n",
       "      <td>0</td>\n",
       "      <td>X</td>\n",
       "      <td>1.928001</td>\n",
       "    </tr>\n",
       "    <tr>\n",
       "      <td>1</td>\n",
       "      <td>X2</td>\n",
       "      <td>2.491111</td>\n",
       "    </tr>\n",
       "    <tr>\n",
       "      <td>2</td>\n",
       "      <td>X3</td>\n",
       "      <td>2.421027</td>\n",
       "    </tr>\n",
       "    <tr>\n",
       "      <td>3</td>\n",
       "      <td>X4</td>\n",
       "      <td>0.000000</td>\n",
       "    </tr>\n",
       "    <tr>\n",
       "      <td>4</td>\n",
       "      <td>X5</td>\n",
       "      <td>0.125385</td>\n",
       "    </tr>\n",
       "    <tr>\n",
       "      <td>5</td>\n",
       "      <td>X6</td>\n",
       "      <td>0.000000</td>\n",
       "    </tr>\n",
       "    <tr>\n",
       "      <td>6</td>\n",
       "      <td>X7</td>\n",
       "      <td>-0.019313</td>\n",
       "    </tr>\n",
       "    <tr>\n",
       "      <td>7</td>\n",
       "      <td>X8</td>\n",
       "      <td>0.024454</td>\n",
       "    </tr>\n",
       "    <tr>\n",
       "      <td>8</td>\n",
       "      <td>X9</td>\n",
       "      <td>-0.000000</td>\n",
       "    </tr>\n",
       "    <tr>\n",
       "      <td>9</td>\n",
       "      <td>X10</td>\n",
       "      <td>-0.003905</td>\n",
       "    </tr>\n",
       "  </tbody>\n",
       "</table>\n",
       "</div>"
      ],
      "text/plain": [
       "  feature  coefficient\n",
       "0       X     1.928001\n",
       "1      X2     2.491111\n",
       "2      X3     2.421027\n",
       "3      X4     0.000000\n",
       "4      X5     0.125385\n",
       "5      X6     0.000000\n",
       "6      X7    -0.019313\n",
       "7      X8     0.024454\n",
       "8      X9    -0.000000\n",
       "9     X10    -0.003905"
      ]
     },
     "metadata": {},
     "output_type": "display_data"
    }
   ],
   "source": [
    "lamb = min(zip(MSEs, lambeda))[1]\n",
    "model = linear_model.Lasso(alpha=lamb, fit_intercept=True, normalize=False, max_iter=1000000).fit(X, y)\n",
    "df = pd.DataFrame({'feature': X.columns, 'coefficient': model.coef_})\n",
    "# plot\n",
    "ax = sns.barplot(x='coefficient', y='feature', data=df);\n",
    "plt.xticks(rotation=90)\n",
    "plt.show();\n",
    "display(df)"
   ]
  },
  {
   "cell_type": "markdown",
   "metadata": {},
   "source": [
    "**(f) Now generate a response vector Y according to the model $Y=β_0+β_7X^7+ε$ , and perform best subset selection and the lasso. Discuss the results obtained**"
   ]
  },
  {
   "cell_type": "code",
   "execution_count": 638,
   "metadata": {},
   "outputs": [
    {
     "data": {
      "image/png": "[encoded data removed]",
      "text/plain": [
       "<Figure size 432x288 with 1 Axes>"
      ]
     },
     "metadata": {
      "needs_background": "light"
     },
     "output_type": "display_data"
    }
   ],
   "source": [
    "np.random.seed(1)\n",
    "x   = np.random.normal(0, 1, 100)\n",
    "eps = np.random.normal(0 ,1 , 100)\n",
    "\n",
    "y_np = 5 + 1.2*(x**7) + eps\n",
    "\n",
    "sns.scatterplot(x=x, y=y_np);\n",
    "\n",
    "X = pd.DataFrame({'X': x,\n",
    "                  'X2': x**2,\n",
    "                  'X3': x**3,\n",
    "                  'X4': x**4,\n",
    "                  'X5': x**5,\n",
    "                  'X6': x**6,\n",
    "                  'X7': x**7,\n",
    "                  'X8': x**8,\n",
    "                  'X9': x**9,\n",
    "                  'X10': x**10})\n",
    "y = pd.DataFrame({'y': y_np})"
   ]
  },
  {
   "cell_type": "code",
   "execution_count": 622,
   "metadata": {},
   "outputs": [],
   "source": [
    "def min_rss(statsmodels):\n",
    "    \"\"\"Return model with lowest Residual Sum of Squares (RSS)\"\"\"\n",
    "    return sorted(statsmodels, key=lambda tup: tup[1].ssr)[0]\n",
    "\n",
    "def max_adjr2(statsmodels):\n",
    "    \"\"\"Return model with max R-squared\"\"\"\n",
    "    return sorted(statsmodels, reverse=True, key=lambda tup: tup[1].rsquared_adj)[0]\n",
    "\n",
    "def min_bic(statsmodels):\n",
    "    \"\"\"Return model with min Bayes' Information Criteria\"\"\"\n",
    "    return sorted(statsmodels, reverse=False, key=lambda tup: tup[1].bic)[0]\n",
    "\n",
    "def min_aic(statsmodels):\n",
    "    \"\"\"Return model with min Akaike's Information Criteria\"\"\"\n",
    "    return sorted(statsmodels, reverse=False, key=lambda tup: tup[1].aic)[0]\n",
    "\n",
    "\n",
    "def get_models(k, X, y):\n",
    "    \"\"\"\n",
    "    Fit all possible models that contain exactly k predictors.\n",
    "    \"\"\"\n",
    "    # List all available predictors\n",
    "    X_combos = itertools.combinations(list(X.columns), k)\n",
    "    \n",
    "    # Fit all models\n",
    "    models = []\n",
    "    for X_label in X_combos:\n",
    "        # Parse patsy formula\n",
    "        X_smf = ' + '.join(X_label)\n",
    "        f     = '{} ~ {}'.format(y.columns[0], X_smf)\n",
    "        # Fit model\n",
    "        model = smf.ols(formula=f, data=pd.concat([X, y], axis=1)).fit()\n",
    "        # Return results\n",
    "        models += [(f, model)]\n",
    "    return models\n",
    "\n",
    "def best_selection(X,y,scorer='rss'):\n",
    "    \n",
    "    model_subset = []\n",
    "    for k in range(len(X.columns)):\n",
    "        k=k+1\n",
    "        subset = get_models(k,X,y)\n",
    "        model_subset += [subset]\n",
    "        print(\"Best subset selected: {}/{}\".format(k,len(X.columns)))\n",
    "        \n",
    "        # Select best in each subset using chosen scorer\n",
    "    if scorer == 'ssr':\n",
    "        # Get best rss score for each subset\n",
    "        return [min_rss(m) for m in model_subset]\n",
    "    elif scorer == 'rsquared_adj':\n",
    "        # Get best rss score for each subset\n",
    "        return [max_adjr2(m) for m in model_subset]       \n",
    "    elif scorer == 'bic':\n",
    "        # Get best rss score for each subset\n",
    "        return [min_bic(m) for m in model_subset]\n",
    "    elif scorer == 'aic':\n",
    "        # Get best rss score for each subset\n",
    "        return [min_aic(m) for m in model_subset]\n",
    "    \n",
    "        \n",
    "def cross_validation(formula,X,y,k):\n",
    "    \n",
    "    X_folds = np.array_split(X, k)\n",
    "    y_folds = np.array_split(y, k)\n",
    "    \n",
    "    results = []\n",
    "    for i in np.arange(len(X_folds)):\n",
    "        X_test = X_folds[i]\n",
    "        y_test = y_folds[i]\n",
    "        X_train = X.drop(X_test.index)\n",
    "        y_train = y.drop(y_test.index)\n",
    "        \n",
    "        #model fit\n",
    "        model = smf.ols(formula=formula, data = pd.concat([X_train,y_train],axis=1)).fit()\n",
    "        \n",
    "        y_hat = model.predict(X_test)\n",
    "        results += [mse(y_hat, y_test['y'])]\n",
    "    return (results,formula)\n",
    "\n"
   ]
  },
  {
   "cell_type": "code",
   "execution_count": 623,
   "metadata": {},
   "outputs": [
    {
     "name": "stdout",
     "output_type": "stream",
     "text": [
      "Best subset selected: 1/10\n",
      "Best subset selected: 2/10\n",
      "Best subset selected: 3/10\n",
      "Best subset selected: 4/10\n",
      "Best subset selected: 5/10\n",
      "Best subset selected: 6/10\n",
      "Best subset selected: 7/10\n",
      "Best subset selected: 8/10\n",
      "Best subset selected: 9/10\n",
      "Best subset selected: 10/10\n"
     ]
    }
   ],
   "source": [
    "best_subset_models = best_selection(X, y, scorer='bic')"
   ]
  },
  {
   "cell_type": "code",
   "execution_count": 624,
   "metadata": {},
   "outputs": [],
   "source": [
    "best_subset_formula = [f[0] for f in best_subset_models ]\n",
    "best_subset_mse = [np.mean(cross_validation(f,X,y,10)[0]) for f in best_subset_formula]\n",
    "results = pd.DataFrame({'mse':best_subset_mse,'predictors':best_subset_formula})\n"
   ]
  },
  {
   "cell_type": "code",
   "execution_count": 625,
   "metadata": {},
   "outputs": [
    {
     "data": {
      "text/html": [
       "<div>\n",
       "<style scoped>\n",
       "    .dataframe tbody tr th:only-of-type {\n",
       "        vertical-align: middle;\n",
       "    }\n",
       "\n",
       "    .dataframe tbody tr th {\n",
       "        vertical-align: top;\n",
       "    }\n",
       "\n",
       "    .dataframe thead th {\n",
       "        text-align: right;\n",
       "    }\n",
       "</style>\n",
       "<table border=\"1\" class=\"dataframe\">\n",
       "  <thead>\n",
       "    <tr style=\"text-align: right;\">\n",
       "      <th></th>\n",
       "      <th>mse</th>\n",
       "      <th>predictors</th>\n",
       "    </tr>\n",
       "  </thead>\n",
       "  <tbody>\n",
       "    <tr>\n",
       "      <td>2</td>\n",
       "      <td>0.854173</td>\n",
       "      <td>y ~ X2 + X6 + X7</td>\n",
       "    </tr>\n",
       "  </tbody>\n",
       "</table>\n",
       "</div>"
      ],
      "text/plain": [
       "        mse        predictors\n",
       "2  0.854173  y ~ X2 + X6 + X7"
      ]
     },
     "execution_count": 625,
     "metadata": {},
     "output_type": "execute_result"
    }
   ],
   "source": [
    "results[results['mse'].min() == results['mse']]"
   ]
  },
  {
   "cell_type": "code",
   "execution_count": 626,
   "metadata": {},
   "outputs": [
    {
     "data": {
      "text/html": [
       "<div>\n",
       "<style scoped>\n",
       "    .dataframe tbody tr th:only-of-type {\n",
       "        vertical-align: middle;\n",
       "    }\n",
       "\n",
       "    .dataframe tbody tr th {\n",
       "        vertical-align: top;\n",
       "    }\n",
       "\n",
       "    .dataframe thead th {\n",
       "        text-align: right;\n",
       "    }\n",
       "</style>\n",
       "<table border=\"1\" class=\"dataframe\">\n",
       "  <thead>\n",
       "    <tr style=\"text-align: right;\">\n",
       "      <th></th>\n",
       "      <th>formula</th>\n",
       "      <th>mse</th>\n",
       "    </tr>\n",
       "  </thead>\n",
       "  <tbody>\n",
       "    <tr>\n",
       "      <td>2</td>\n",
       "      <td>y ~ X2 + X6 + X7</td>\n",
       "      <td>0.854173</td>\n",
       "    </tr>\n",
       "  </tbody>\n",
       "</table>\n",
       "</div>"
      ],
      "text/plain": [
       "            formula       mse\n",
       "2  y ~ X2 + X6 + X7  0.854173"
      ]
     },
     "metadata": {},
     "output_type": "display_data"
    },
    {
     "data": {
      "text/plain": [
       "Intercept    5.271801\n",
       "X2          -0.320021\n",
       "X6           0.020727\n",
       "X7           1.203961\n",
       "dtype: float64"
      ]
     },
     "metadata": {},
     "output_type": "display_data"
    },
    {
     "data": {
      "image/png": "[encoded data removed]",
      "text/plain": [
       "<Figure size 432x288 with 1 Axes>"
      ]
     },
     "metadata": {
      "needs_background": "light"
     },
     "output_type": "display_data"
    }
   ],
   "source": [
    "best_subset_formula = [f[0] for f in best_subset_models]\n",
    "best_subset_mses    = [np.mean(cross_val(f, X, y, 10)[0]) for f in best_subset_formula]\n",
    "df = pd.DataFrame({'formula': best_subset_formula, 'mse': best_subset_mses})\n",
    "\n",
    "# Show chosen model\n",
    "display(df[df['mse'] == df['mse'].min()])\n",
    "best_subset_params = best_subset_models[2][1].params\n",
    "display(best_subset_params)\n",
    "\n",
    "# Plot mse across subsets\n",
    "ax = sns.lineplot(x='formula', y='mse', data=df, sort=False)\n",
    "plt.xticks(rotation=90)\n",
    "plt.show();"
   ]
  },
  {
   "cell_type": "markdown",
   "metadata": {},
   "source": [
    "Best subset selection with 10 fold cross validation selects a the model, $y \\~ X^2 + X^6 + X^7$ with a MSE of 0.854.\n",
    "\n",
    "Because this is simulated data we know that the true model is:\n",
    "\n",
    "$f(x)=5+1.2x^7+ε$\n",
    "\n",
    "Best subset selection estimates the f(x) to be:\n",
    "\n",
    "$f(x)=5.27−0.32x^2+0.02x^6+1.20x^7$\n",
    "\n",
    "...which is pretty close. Let's plot on the same axis to see how close"
   ]
  },
  {
   "cell_type": "code",
   "execution_count": 627,
   "metadata": {},
   "outputs": [
    {
     "data": {
      "text/plain": [
       "[<matplotlib.lines.Line2D at 0x136af4e50>]"
      ]
     },
     "execution_count": 627,
     "metadata": {},
     "output_type": "execute_result"
    },
    {
     "data": {
      "image/png": "[encoded data removed]",
      "text/plain": [
       "<Figure size 432x288 with 1 Axes>"
      ]
     },
     "metadata": {
      "needs_background": "light"
     },
     "output_type": "display_data"
    }
   ],
   "source": [
    "x = np.arange(-2,2,0.01)\n",
    "\n",
    "y_real = 5 + 1.2* x**7 \n",
    "\n",
    "y_apro = 5.27 - 0.32 * x**2 + 0.02*x**6+1.20 *x**7\n",
    "\n",
    "\n",
    "plt.plot(x,y_real)\n",
    "plt.plot(x,y_apro)\n"
   ]
  },
  {
   "cell_type": "markdown",
   "metadata": {},
   "source": [
    "Here we plot the actual values of y (blue) and the predicted values of y (orange) on the same axis. You can't see the actual line because th eprediction is so close."
   ]
  },
  {
   "cell_type": "markdown",
   "metadata": {},
   "source": [
    "**The Lasso**"
   ]
  },
  {
   "cell_type": "code",
   "execution_count": 650,
   "metadata": {},
   "outputs": [],
   "source": [
    "def lasso_cv(X,y,k,alpha):\n",
    "    X_folds = np.array_split(X,k)\n",
    "    y_folds = np.array_split(y,k)\n",
    "    \n",
    "    mses=[]\n",
    "    for p in np.arange(k):\n",
    "        X_test = X_folds[p]\n",
    "        y_test = y_folds[p]\n",
    "        X_train = X.drop(X_test.index)\n",
    "        y_train = y.drop(y_test.index)\n",
    "        \n",
    "        #model fit\n",
    "        lasso = linear_model.Lasso(alpha=alpha,fit_intercept=True,normalize=True,max_iter=10000).fit(X_train,y_train)\n",
    "        \n",
    "        #predict\n",
    "        y_hat = lasso.predict(X_test)\n",
    "        \n",
    "        mses+= [mse(y_hat,y_test['y'])]\n",
    "        \n",
    "    return np.mean(mses)\n",
    "        \n",
    "        "
   ]
  },
  {
   "cell_type": "code",
   "execution_count": 651,
   "metadata": {},
   "outputs": [],
   "source": [
    "lambedass= np.arange(0.01,0.1,0.001)\n",
    "\n",
    "MSE=[]\n",
    "for l in lambedass:\n",
    "    MSE+= [lasso_cv(X,y,10,l)]\n"
   ]
  },
  {
   "cell_type": "code",
   "execution_count": 652,
   "metadata": {},
   "outputs": [
    {
     "data": {
      "text/plain": [
       "<matplotlib.axes._subplots.AxesSubplot at 0x13a5902d0>"
      ]
     },
     "execution_count": 652,
     "metadata": {},
     "output_type": "execute_result"
    },
    {
     "data": {
      "image/png": "[encoded data removed]",
      "text/plain": [
       "<Figure size 432x288 with 1 Axes>"
      ]
     },
     "metadata": {
      "needs_background": "light"
     },
     "output_type": "display_data"
    }
   ],
   "source": [
    "sns.scatterplot(x='x',y='y',data=pd.DataFrame({'x':lambedass,'y':MSE}))"
   ]
  },
  {
   "cell_type": "code",
   "execution_count": 654,
   "metadata": {},
   "outputs": [
    {
     "data": {
      "text/plain": [
       "(1.0480683621470073, 0.03799999999999998)"
      ]
     },
     "execution_count": 654,
     "metadata": {},
     "output_type": "execute_result"
    }
   ],
   "source": [
    "min(zip(MSE, lambedass))"
   ]
  },
  {
   "cell_type": "code",
   "execution_count": 657,
   "metadata": {},
   "outputs": [
    {
     "data": {
      "text/html": [
       "<div>\n",
       "<style scoped>\n",
       "    .dataframe tbody tr th:only-of-type {\n",
       "        vertical-align: middle;\n",
       "    }\n",
       "\n",
       "    .dataframe tbody tr th {\n",
       "        vertical-align: top;\n",
       "    }\n",
       "\n",
       "    .dataframe thead th {\n",
       "        text-align: right;\n",
       "    }\n",
       "</style>\n",
       "<table border=\"1\" class=\"dataframe\">\n",
       "  <thead>\n",
       "    <tr style=\"text-align: right;\">\n",
       "      <th></th>\n",
       "      <th>parameters</th>\n",
       "      <th>coef</th>\n",
       "    </tr>\n",
       "  </thead>\n",
       "  <tbody>\n",
       "    <tr>\n",
       "      <td>0</td>\n",
       "      <td>X0</td>\n",
       "      <td>5.139608</td>\n",
       "    </tr>\n",
       "    <tr>\n",
       "      <td>0</td>\n",
       "      <td>X</td>\n",
       "      <td>0.000000</td>\n",
       "    </tr>\n",
       "    <tr>\n",
       "      <td>1</td>\n",
       "      <td>X2</td>\n",
       "      <td>-0.000000</td>\n",
       "    </tr>\n",
       "    <tr>\n",
       "      <td>2</td>\n",
       "      <td>X3</td>\n",
       "      <td>0.000000</td>\n",
       "    </tr>\n",
       "    <tr>\n",
       "      <td>3</td>\n",
       "      <td>X4</td>\n",
       "      <td>0.000000</td>\n",
       "    </tr>\n",
       "    <tr>\n",
       "      <td>4</td>\n",
       "      <td>X5</td>\n",
       "      <td>0.038361</td>\n",
       "    </tr>\n",
       "    <tr>\n",
       "      <td>5</td>\n",
       "      <td>X6</td>\n",
       "      <td>0.000000</td>\n",
       "    </tr>\n",
       "    <tr>\n",
       "      <td>6</td>\n",
       "      <td>X7</td>\n",
       "      <td>1.186932</td>\n",
       "    </tr>\n",
       "    <tr>\n",
       "      <td>7</td>\n",
       "      <td>X8</td>\n",
       "      <td>0.000000</td>\n",
       "    </tr>\n",
       "    <tr>\n",
       "      <td>8</td>\n",
       "      <td>X9</td>\n",
       "      <td>0.000000</td>\n",
       "    </tr>\n",
       "    <tr>\n",
       "      <td>9</td>\n",
       "      <td>X10</td>\n",
       "      <td>0.000000</td>\n",
       "    </tr>\n",
       "  </tbody>\n",
       "</table>\n",
       "</div>"
      ],
      "text/plain": [
       "  parameters      coef\n",
       "0         X0  5.139608\n",
       "0          X  0.000000\n",
       "1         X2 -0.000000\n",
       "2         X3  0.000000\n",
       "3         X4  0.000000\n",
       "4         X5  0.038361\n",
       "5         X6  0.000000\n",
       "6         X7  1.186932\n",
       "7         X8  0.000000\n",
       "8         X9  0.000000\n",
       "9        X10  0.000000"
      ]
     },
     "metadata": {},
     "output_type": "display_data"
    },
    {
     "data": {
      "image/png": "[encoded data removed]",
      "text/plain": [
       "<Figure size 432x288 with 1 Axes>"
      ]
     },
     "metadata": {
      "needs_background": "light"
     },
     "output_type": "display_data"
    }
   ],
   "source": [
    "# which features are more important to Lasso\n",
    "model = linear_model.Lasso(alpha=0.0379999,fit_intercept=True,normalize=True,max_iter=10000).fit(X,y)\n",
    "intersect = pd.DataFrame({'parameters':'X0','coef':model.intercept_})\n",
    "lassoa = intersect.append(pd.DataFrame({'parameters':X.columns,'coef':model.coef_}))\n",
    "\n",
    "sns.barplot(x='coef',y='parameters',data=lassoa)\n",
    "plt.xlabel(\"Coefficient\")\n",
    "plt.ylabel(\"Features\")\n",
    "\n",
    "display(lassoa)"
   ]
  },
  {
   "cell_type": "markdown",
   "metadata": {},
   "source": [
    "Here the lasso selects almost the ideal model, with only one superfluous feature with a low coefficient. The MSE reported is marginally lower than for best subset selection at 1.048 compared to 0.854.\n",
    "\n",
    "Whilst searching for optimal value of lambda, I noticed another minima close to zero... deomonstrated below."
   ]
  },
  {
   "cell_type": "code",
   "execution_count": 661,
   "metadata": {},
   "outputs": [
    {
     "data": {
      "text/html": [
       "<div>\n",
       "<style scoped>\n",
       "    .dataframe tbody tr th:only-of-type {\n",
       "        vertical-align: middle;\n",
       "    }\n",
       "\n",
       "    .dataframe tbody tr th {\n",
       "        vertical-align: top;\n",
       "    }\n",
       "\n",
       "    .dataframe thead th {\n",
       "        text-align: right;\n",
       "    }\n",
       "</style>\n",
       "<table border=\"1\" class=\"dataframe\">\n",
       "  <thead>\n",
       "    <tr style=\"text-align: right;\">\n",
       "      <th></th>\n",
       "      <th>parameters</th>\n",
       "      <th>coef</th>\n",
       "    </tr>\n",
       "  </thead>\n",
       "  <tbody>\n",
       "    <tr>\n",
       "      <td>0</td>\n",
       "      <td>X0</td>\n",
       "      <td>5.275241</td>\n",
       "    </tr>\n",
       "    <tr>\n",
       "      <td>0</td>\n",
       "      <td>X</td>\n",
       "      <td>0.546472</td>\n",
       "    </tr>\n",
       "    <tr>\n",
       "      <td>1</td>\n",
       "      <td>X2</td>\n",
       "      <td>-0.261390</td>\n",
       "    </tr>\n",
       "    <tr>\n",
       "      <td>2</td>\n",
       "      <td>X3</td>\n",
       "      <td>-2.428896</td>\n",
       "    </tr>\n",
       "    <tr>\n",
       "      <td>3</td>\n",
       "      <td>X4</td>\n",
       "      <td>-0.088259</td>\n",
       "    </tr>\n",
       "    <tr>\n",
       "      <td>4</td>\n",
       "      <td>X5</td>\n",
       "      <td>2.363543</td>\n",
       "    </tr>\n",
       "    <tr>\n",
       "      <td>5</td>\n",
       "      <td>X6</td>\n",
       "      <td>0.000000</td>\n",
       "    </tr>\n",
       "    <tr>\n",
       "      <td>6</td>\n",
       "      <td>X7</td>\n",
       "      <td>0.469777</td>\n",
       "    </tr>\n",
       "    <tr>\n",
       "      <td>7</td>\n",
       "      <td>X8</td>\n",
       "      <td>0.006829</td>\n",
       "    </tr>\n",
       "    <tr>\n",
       "      <td>8</td>\n",
       "      <td>X9</td>\n",
       "      <td>0.071042</td>\n",
       "    </tr>\n",
       "    <tr>\n",
       "      <td>9</td>\n",
       "      <td>X10</td>\n",
       "      <td>0.000378</td>\n",
       "    </tr>\n",
       "  </tbody>\n",
       "</table>\n",
       "</div>"
      ],
      "text/plain": [
       "  parameters      coef\n",
       "0         X0  5.275241\n",
       "0          X  0.546472\n",
       "1         X2 -0.261390\n",
       "2         X3 -2.428896\n",
       "3         X4 -0.088259\n",
       "4         X5  2.363543\n",
       "5         X6  0.000000\n",
       "6         X7  0.469777\n",
       "7         X8  0.006829\n",
       "8         X9  0.071042\n",
       "9        X10  0.000378"
      ]
     },
     "metadata": {},
     "output_type": "display_data"
    },
    {
     "name": "stdout",
     "output_type": "stream",
     "text": [
      "0.00026100000000000006\n"
     ]
    },
    {
     "data": {
      "image/png": "[encoded data removed]",
      "text/plain": [
       "<Figure size 432x288 with 1 Axes>"
      ]
     },
     "metadata": {
      "needs_background": "light"
     },
     "output_type": "display_data"
    }
   ],
   "source": [
    "lambedas = np.arange(0.000001, 0.0005, 0.00001)\n",
    "\n",
    "MSE=[]\n",
    "for l in lambedas:\n",
    "    MSE+= [lasso_cv(X,y,10,alpha= l)]\n",
    "    \n",
    "alpha =min(zip(MSE, lambedas))[1]  \n",
    "model = linear_model.Lasso(alpha=alpha,fit_intercept=True,normalize=True,max_iter=10000).fit(X,y)\n",
    "intersect = pd.DataFrame({'parameters':'X0','coef':model.intercept_})\n",
    "lassob = intersect.append(pd.DataFrame({'parameters':X.columns,'coef':model.coef_}))\n",
    "\n",
    "sns.barplot(x='coef',y='parameters',data=lassob)\n",
    "plt.xlabel(\"Coefficient\")\n",
    "plt.ylabel(\"Features\")\n",
    "\n",
    "display(lassob)\n",
    "print(alpha)"
   ]
  },
  {
   "cell_type": "code",
   "execution_count": 634,
   "metadata": {},
   "outputs": [
    {
     "data": {
      "text/plain": [
       "(0.8423025784930953, 0.00026100000000000006)"
      ]
     },
     "execution_count": 634,
     "metadata": {},
     "output_type": "execute_result"
    }
   ],
   "source": [
    "min(zip(MSEs, lambdas))"
   ]
  },
  {
   "cell_type": "markdown",
   "metadata": {},
   "source": [
    "Here the value of lambda is very close to zero and so we expect it behave like ridge regression – indeed there is a low proportion of zero value coefficients.\n",
    "\n",
    "The MSE is now lower 0.842 than that achieved for both best subset selection and the first version of lasso.\n",
    "\n",
    "But how do these various model estimates compare against the actual f(x)?\n",
    "\n",
    "Because data is simulated, we can compare the selected models to the actual model"
   ]
  },
  {
   "cell_type": "code",
   "execution_count": 700,
   "metadata": {},
   "outputs": [],
   "source": [
    "np.random.seed(1)\n",
    "x   = np.random.normal(0, 1, 100)\n",
    "X = pd.DataFrame({'X': x,\n",
    "                  'X2': x**2,\n",
    "                  'X3': x**3,\n",
    "                  'X4': x**4,\n",
    "                  'X5': x**5,\n",
    "                  'X6': x**6,\n",
    "                  'X7': x**7,\n",
    "                  'X8': x**8,\n",
    "                  'X9': x**9,\n",
    "                  'X10': x**10})\n",
    "X_np = np.insert(np.array(X), 0, 1, axis=1)\n",
    "\n",
    "y_actual = 5 + 1.2*(x**7)\n",
    "bss_params = np.zeros(11)\n",
    "bss_params[0] = best_subset_params[0]\n",
    "bss_params[2] = best_subset_params[1]\n",
    "bss_params[6] = best_subset_params[2]\n",
    "bss_params[7] = best_subset_params[3]\n",
    "\n",
    "lasso_a_params = np.array(lassoa['coef'])\n",
    "lasso_b_params = np.array(lassob['coef'])"
   ]
  },
  {
   "cell_type": "code",
   "execution_count": null,
   "metadata": {},
   "outputs": [],
   "source": []
  },
  {
   "cell_type": "code",
   "execution_count": 701,
   "metadata": {},
   "outputs": [],
   "source": [
    "y_bss     = X_np @ bss_params\n",
    "y_lasso_a = X_np @ lasso_a_params\n",
    "y_lasso_b = X_np @ lasso_b_params\n",
    "\n",
    "def mse(y_hat, y):\n",
    "    \"\"\"Calculate Mean Squared Error\"\"\"\n",
    "    return np.sum(np.square(y_hat - y)) / y.size"
   ]
  },
  {
   "cell_type": "code",
   "execution_count": 702,
   "metadata": {},
   "outputs": [
    {
     "data": {
      "text/html": [
       "<h4>Actual MSEs compared to known f(x)</h4>"
      ],
      "text/plain": [
       "<IPython.core.display.HTML object>"
      ]
     },
     "metadata": {},
     "output_type": "display_data"
    },
    {
     "name": "stdout",
     "output_type": "stream",
     "text": [
      "Best subset selection    : 0.0908637508688931\n",
      "Lasso a (higher lambda)  : 0.09055989152231375\n",
      "Lasso b (lower lambda ~0): 0.12790366350451696\n"
     ]
    }
   ],
   "source": [
    "display(HTML('<h4>Actual MSEs compared to known f(x)</h4>'))\n",
    "print('Best subset selection    : {}'.format(mse(y_bss, y_actual)))\n",
    "print('Lasso a (higher lambda)  : {}'.format(mse(y_lasso_a, y_actual)))\n",
    "print('Lasso b (lower lambda ~0): {}'.format(mse(y_lasso_b, y_actual)))"
   ]
  },
  {
   "cell_type": "code",
   "execution_count": 693,
   "metadata": {},
   "outputs": [
    {
     "data": {
      "text/html": [
       "<div>\n",
       "<style scoped>\n",
       "    .dataframe tbody tr th:only-of-type {\n",
       "        vertical-align: middle;\n",
       "    }\n",
       "\n",
       "    .dataframe tbody tr th {\n",
       "        vertical-align: top;\n",
       "    }\n",
       "\n",
       "    .dataframe thead th {\n",
       "        text-align: right;\n",
       "    }\n",
       "</style>\n",
       "<table border=\"1\" class=\"dataframe\">\n",
       "  <thead>\n",
       "    <tr style=\"text-align: right;\">\n",
       "      <th></th>\n",
       "      <th>parameters</th>\n",
       "      <th>coef</th>\n",
       "    </tr>\n",
       "  </thead>\n",
       "  <tbody>\n",
       "    <tr>\n",
       "      <td>0</td>\n",
       "      <td>X0</td>\n",
       "      <td>5.275241</td>\n",
       "    </tr>\n",
       "    <tr>\n",
       "      <td>0</td>\n",
       "      <td>X</td>\n",
       "      <td>0.546472</td>\n",
       "    </tr>\n",
       "    <tr>\n",
       "      <td>1</td>\n",
       "      <td>X2</td>\n",
       "      <td>-0.261390</td>\n",
       "    </tr>\n",
       "    <tr>\n",
       "      <td>2</td>\n",
       "      <td>X3</td>\n",
       "      <td>-2.428896</td>\n",
       "    </tr>\n",
       "    <tr>\n",
       "      <td>3</td>\n",
       "      <td>X4</td>\n",
       "      <td>-0.088259</td>\n",
       "    </tr>\n",
       "    <tr>\n",
       "      <td>4</td>\n",
       "      <td>X5</td>\n",
       "      <td>2.363543</td>\n",
       "    </tr>\n",
       "    <tr>\n",
       "      <td>5</td>\n",
       "      <td>X6</td>\n",
       "      <td>0.000000</td>\n",
       "    </tr>\n",
       "    <tr>\n",
       "      <td>6</td>\n",
       "      <td>X7</td>\n",
       "      <td>0.469777</td>\n",
       "    </tr>\n",
       "    <tr>\n",
       "      <td>7</td>\n",
       "      <td>X8</td>\n",
       "      <td>0.006829</td>\n",
       "    </tr>\n",
       "    <tr>\n",
       "      <td>8</td>\n",
       "      <td>X9</td>\n",
       "      <td>0.071042</td>\n",
       "    </tr>\n",
       "    <tr>\n",
       "      <td>9</td>\n",
       "      <td>X10</td>\n",
       "      <td>0.000378</td>\n",
       "    </tr>\n",
       "  </tbody>\n",
       "</table>\n",
       "</div>"
      ],
      "text/plain": [
       "  parameters      coef\n",
       "0         X0  5.275241\n",
       "0          X  0.546472\n",
       "1         X2 -0.261390\n",
       "2         X3 -2.428896\n",
       "3         X4 -0.088259\n",
       "4         X5  2.363543\n",
       "5         X6  0.000000\n",
       "6         X7  0.469777\n",
       "7         X8  0.006829\n",
       "8         X9  0.071042\n",
       "9        X10  0.000378"
      ]
     },
     "execution_count": 693,
     "metadata": {},
     "output_type": "execute_result"
    }
   ],
   "source": [
    "lassob"
   ]
  },
  {
   "cell_type": "markdown",
   "metadata": {},
   "source": [
    "### 9. In this exercise, we will predict the number of applications received using the other variables in the College data set."
   ]
  },
  {
   "cell_type": "markdown",
   "metadata": {},
   "source": [
    "**(a) Split the data set into a training set and a test set.**"
   ]
  },
  {
   "cell_type": "code",
   "execution_count": 786,
   "metadata": {},
   "outputs": [
    {
     "data": {
      "text/html": [
       "<div>\n",
       "<style scoped>\n",
       "    .dataframe tbody tr th:only-of-type {\n",
       "        vertical-align: middle;\n",
       "    }\n",
       "\n",
       "    .dataframe tbody tr th {\n",
       "        vertical-align: top;\n",
       "    }\n",
       "\n",
       "    .dataframe thead th {\n",
       "        text-align: right;\n",
       "    }\n",
       "</style>\n",
       "<table border=\"1\" class=\"dataframe\">\n",
       "  <thead>\n",
       "    <tr style=\"text-align: right;\">\n",
       "      <th></th>\n",
       "      <th>Apps</th>\n",
       "      <th>Accept</th>\n",
       "      <th>Enroll</th>\n",
       "      <th>Top10perc</th>\n",
       "      <th>Top25perc</th>\n",
       "      <th>F_Undergrad</th>\n",
       "      <th>P_Undergrad</th>\n",
       "      <th>Outstate</th>\n",
       "      <th>Room_Board</th>\n",
       "      <th>Books</th>\n",
       "      <th>Personal</th>\n",
       "      <th>PhD</th>\n",
       "      <th>Terminal</th>\n",
       "      <th>S_F_Ratio</th>\n",
       "      <th>perc_alumni</th>\n",
       "      <th>Expend</th>\n",
       "      <th>Grad_Rate</th>\n",
       "      <th>Private_Yes</th>\n",
       "    </tr>\n",
       "    <tr>\n",
       "      <th>College</th>\n",
       "      <th></th>\n",
       "      <th></th>\n",
       "      <th></th>\n",
       "      <th></th>\n",
       "      <th></th>\n",
       "      <th></th>\n",
       "      <th></th>\n",
       "      <th></th>\n",
       "      <th></th>\n",
       "      <th></th>\n",
       "      <th></th>\n",
       "      <th></th>\n",
       "      <th></th>\n",
       "      <th></th>\n",
       "      <th></th>\n",
       "      <th></th>\n",
       "      <th></th>\n",
       "      <th></th>\n",
       "    </tr>\n",
       "  </thead>\n",
       "  <tbody>\n",
       "    <tr>\n",
       "      <td>Abilene Christian University</td>\n",
       "      <td>1660.0</td>\n",
       "      <td>1232.0</td>\n",
       "      <td>721.0</td>\n",
       "      <td>23.0</td>\n",
       "      <td>52.0</td>\n",
       "      <td>2885.0</td>\n",
       "      <td>537.0</td>\n",
       "      <td>7440.0</td>\n",
       "      <td>3300.0</td>\n",
       "      <td>450.0</td>\n",
       "      <td>2200.0</td>\n",
       "      <td>70.0</td>\n",
       "      <td>78.0</td>\n",
       "      <td>18.1</td>\n",
       "      <td>12.0</td>\n",
       "      <td>7041.0</td>\n",
       "      <td>60.0</td>\n",
       "      <td>1.0</td>\n",
       "    </tr>\n",
       "    <tr>\n",
       "      <td>Adelphi University</td>\n",
       "      <td>2186.0</td>\n",
       "      <td>1924.0</td>\n",
       "      <td>512.0</td>\n",
       "      <td>16.0</td>\n",
       "      <td>29.0</td>\n",
       "      <td>2683.0</td>\n",
       "      <td>1227.0</td>\n",
       "      <td>12280.0</td>\n",
       "      <td>6450.0</td>\n",
       "      <td>750.0</td>\n",
       "      <td>1500.0</td>\n",
       "      <td>29.0</td>\n",
       "      <td>30.0</td>\n",
       "      <td>12.2</td>\n",
       "      <td>16.0</td>\n",
       "      <td>10527.0</td>\n",
       "      <td>56.0</td>\n",
       "      <td>1.0</td>\n",
       "    </tr>\n",
       "    <tr>\n",
       "      <td>Adrian College</td>\n",
       "      <td>1428.0</td>\n",
       "      <td>1097.0</td>\n",
       "      <td>336.0</td>\n",
       "      <td>22.0</td>\n",
       "      <td>50.0</td>\n",
       "      <td>1036.0</td>\n",
       "      <td>99.0</td>\n",
       "      <td>11250.0</td>\n",
       "      <td>3750.0</td>\n",
       "      <td>400.0</td>\n",
       "      <td>1165.0</td>\n",
       "      <td>53.0</td>\n",
       "      <td>66.0</td>\n",
       "      <td>12.9</td>\n",
       "      <td>30.0</td>\n",
       "      <td>8735.0</td>\n",
       "      <td>54.0</td>\n",
       "      <td>1.0</td>\n",
       "    </tr>\n",
       "    <tr>\n",
       "      <td>Agnes Scott College</td>\n",
       "      <td>417.0</td>\n",
       "      <td>349.0</td>\n",
       "      <td>137.0</td>\n",
       "      <td>60.0</td>\n",
       "      <td>89.0</td>\n",
       "      <td>510.0</td>\n",
       "      <td>63.0</td>\n",
       "      <td>12960.0</td>\n",
       "      <td>5450.0</td>\n",
       "      <td>450.0</td>\n",
       "      <td>875.0</td>\n",
       "      <td>92.0</td>\n",
       "      <td>97.0</td>\n",
       "      <td>7.7</td>\n",
       "      <td>37.0</td>\n",
       "      <td>19016.0</td>\n",
       "      <td>59.0</td>\n",
       "      <td>1.0</td>\n",
       "    </tr>\n",
       "    <tr>\n",
       "      <td>Alaska Pacific University</td>\n",
       "      <td>193.0</td>\n",
       "      <td>146.0</td>\n",
       "      <td>55.0</td>\n",
       "      <td>16.0</td>\n",
       "      <td>44.0</td>\n",
       "      <td>249.0</td>\n",
       "      <td>869.0</td>\n",
       "      <td>7560.0</td>\n",
       "      <td>4120.0</td>\n",
       "      <td>800.0</td>\n",
       "      <td>1500.0</td>\n",
       "      <td>76.0</td>\n",
       "      <td>72.0</td>\n",
       "      <td>11.9</td>\n",
       "      <td>2.0</td>\n",
       "      <td>10922.0</td>\n",
       "      <td>15.0</td>\n",
       "      <td>1.0</td>\n",
       "    </tr>\n",
       "  </tbody>\n",
       "</table>\n",
       "</div>"
      ],
      "text/plain": [
       "                                Apps  Accept  Enroll  Top10perc  Top25perc  \\\n",
       "College                                                                      \n",
       "Abilene Christian University  1660.0  1232.0   721.0       23.0       52.0   \n",
       "Adelphi University            2186.0  1924.0   512.0       16.0       29.0   \n",
       "Adrian College                1428.0  1097.0   336.0       22.0       50.0   \n",
       "Agnes Scott College            417.0   349.0   137.0       60.0       89.0   \n",
       "Alaska Pacific University      193.0   146.0    55.0       16.0       44.0   \n",
       "\n",
       "                              F_Undergrad  P_Undergrad  Outstate  Room_Board  \\\n",
       "College                                                                        \n",
       "Abilene Christian University       2885.0        537.0    7440.0      3300.0   \n",
       "Adelphi University                 2683.0       1227.0   12280.0      6450.0   \n",
       "Adrian College                     1036.0         99.0   11250.0      3750.0   \n",
       "Agnes Scott College                 510.0         63.0   12960.0      5450.0   \n",
       "Alaska Pacific University           249.0        869.0    7560.0      4120.0   \n",
       "\n",
       "                              Books  Personal   PhD  Terminal  S_F_Ratio  \\\n",
       "College                                                                    \n",
       "Abilene Christian University  450.0    2200.0  70.0      78.0       18.1   \n",
       "Adelphi University            750.0    1500.0  29.0      30.0       12.2   \n",
       "Adrian College                400.0    1165.0  53.0      66.0       12.9   \n",
       "Agnes Scott College           450.0     875.0  92.0      97.0        7.7   \n",
       "Alaska Pacific University     800.0    1500.0  76.0      72.0       11.9   \n",
       "\n",
       "                              perc_alumni   Expend  Grad_Rate  Private_Yes  \n",
       "College                                                                     \n",
       "Abilene Christian University         12.0   7041.0       60.0          1.0  \n",
       "Adelphi University                   16.0  10527.0       56.0          1.0  \n",
       "Adrian College                       30.0   8735.0       54.0          1.0  \n",
       "Agnes Scott College                  37.0  19016.0       59.0          1.0  \n",
       "Alaska Pacific University             2.0  10922.0       15.0          1.0  "
      ]
     },
     "execution_count": 786,
     "metadata": {},
     "output_type": "execute_result"
    }
   ],
   "source": [
    "col = pd.read_csv('College.csv',index_col=0)\n",
    "col.rename_axis(['College'], inplace=True)\n",
    "\n",
    "\n",
    "col = pd.get_dummies(col,drop_first=True)\n",
    "col = col.astype(np.float)\n",
    "col.head()\n",
    "\n",
    "col = col.rename(index=str,columns={\"F.Undergrad\": \"F_Undergrad\", \n",
    "                                                   \"P.Undergrad\": \"P_Undergrad\",\n",
    "                                                   \"S.F.Ratio\": \"S_F_Ratio\",\n",
    "                                                   \"perc.alumni\": \"perc_alumni\",\n",
    "                                                   \"Grad.Rate\": \"Grad_Rate\",\n",
    "                                                   \"Room.Board\": \"Room_Board\"})\n",
    "\n",
    "np.random.seed(1)\n",
    "train = np.random.rand(len(col)) <  0.5\n",
    "X_train = col[train].drop('Apps', axis=1)\n",
    "y_train = col['Apps'][train]\n",
    "X_test = col[~train].drop('Apps', axis=1)\n",
    "y_test = col['Apps'][~train]\n",
    "\n",
    "col.head()"
   ]
  },
  {
   "cell_type": "markdown",
   "metadata": {},
   "source": [
    "**(b) Fit a linear model using least squares on the training set, and report the test error obtained.**"
   ]
  },
  {
   "cell_type": "code",
   "execution_count": 787,
   "metadata": {},
   "outputs": [
    {
     "name": "stdout",
     "output_type": "stream",
     "text": [
      "Test Error: 1229.1326212399854\n"
     ]
    }
   ],
   "source": [
    "formula = '{} ~ {}'.format('Apps',' + '.join(X_train.columns))\n",
    "formula\n",
    "# fit\n",
    "linear_models = smf.ols(formula=formula,data= pd.concat([X_train,y_train],axis=1)).fit()\n",
    "linear_pred = linear_models.predict(X_test)\n",
    "print(\"Test Error: {}\".format(np.sqrt(mse(linear_pred,y_test))))"
   ]
  },
  {
   "cell_type": "markdown",
   "metadata": {},
   "source": [
    "**(c) Fit a ridge regression model on the training set, with λ chosen by cross-validation. Report the test error obtained**"
   ]
  },
  {
   "cell_type": "code",
   "execution_count": 858,
   "metadata": {},
   "outputs": [],
   "source": [
    "def ridge_cv(X,y,k,alpha):\n",
    "    \n",
    "    X_folds = np.array_split(X,k)\n",
    "    y_folds = np.array_split(y,k)\n",
    "    \n",
    "    results = []\n",
    "    for p in np.arange(k):\n",
    "        X_test = X_folds[p]\n",
    "        y_test = y_folds[p]\n",
    "        X_train = X.drop(X_test.index)\n",
    "        y_train = y.drop(y_test.index)\n",
    "        \n",
    "        # fit\n",
    "        ridge_regr = linear_model.Ridge(alpha = alpha,fit_intercept=True,normalize=False,solver='cholesky').fit(X_train,y_train)\n",
    "        y_hat = ridge_regr.predict(X_test)\n",
    "        \n",
    "        results += [mse(y_hat,y_test)]\n",
    "        \n",
    "    return np.mean(results)\n",
    "        \n",
    "def optimize(X,y,k,lambdas):\n",
    "    \n",
    "    results = []\n",
    "    for i in lambdas:\n",
    "        lasso_result = ridge_cv(X,y,k,i)\n",
    "        results+= [[i,lasso_result]]  \n",
    "    \n",
    "    plot_results = pd.DataFrame({'lambedas':np.array(results)[:,0],'mse':np.array(results)[:,1]})\n",
    "    \n",
    "    sns.scatterplot(x='lambedas',y='mse',data=plot_results)\n",
    "    plt.show()\n",
    "    \n",
    "    display(plot_results[plot_results['mse']==plot_results['mse'].min()].astype(np.float))\n",
    "    print(\"RMSE: {}\\nLambeda: {}\".format(plot_results.iloc[54][1],plot_results.iloc[54][0]))\n",
    "    optimal_lamb = plot_results.iloc[54][0]\n",
    "    \n",
    "    best_ridge_model = linear_model.Ridge(alpha= optimal_lamb,fit_intercept=True,normalize=False,solver='cholesky').fit(X,y)\n",
    "    \n",
    "    intersect_df = pd.DataFrame({'Features':'Intersect','Coef': [best_ridge_model.intercept_]})\n",
    "    coef_df = intersect_df.append(pd.DataFrame({'Features': X.columns,'Coef': best_ridge_model.coef_}),ignore_index=True)\n",
    "    \n",
    "    sns.barplot(x='Coef',y='Features',data = coef_df)\n",
    "    plt.show()\n",
    "    \n",
    "    display(coef_df)\n",
    "    \n",
    "    return best_ridge_model\n",
    "    \n",
    "        \n",
    "        "
   ]
  },
  {
   "cell_type": "code",
   "execution_count": 860,
   "metadata": {},
   "outputs": [
    {
     "data": {
      "image/png": "[encoded data removed]",
      "text/plain": [
       "<Figure size 432x288 with 1 Axes>"
      ]
     },
     "metadata": {
      "needs_background": "light"
     },
     "output_type": "display_data"
    },
    {
     "data": {
      "text/html": [
       "<div>\n",
       "<style scoped>\n",
       "    .dataframe tbody tr th:only-of-type {\n",
       "        vertical-align: middle;\n",
       "    }\n",
       "\n",
       "    .dataframe tbody tr th {\n",
       "        vertical-align: top;\n",
       "    }\n",
       "\n",
       "    .dataframe thead th {\n",
       "        text-align: right;\n",
       "    }\n",
       "</style>\n",
       "<table border=\"1\" class=\"dataframe\">\n",
       "  <thead>\n",
       "    <tr style=\"text-align: right;\">\n",
       "      <th></th>\n",
       "      <th>lambedas</th>\n",
       "      <th>mse</th>\n",
       "    </tr>\n",
       "  </thead>\n",
       "  <tbody>\n",
       "    <tr>\n",
       "      <td>54</td>\n",
       "      <td>6.4</td>\n",
       "      <td>1.068555e+06</td>\n",
       "    </tr>\n",
       "  </tbody>\n",
       "</table>\n",
       "</div>"
      ],
      "text/plain": [
       "    lambedas           mse\n",
       "54       6.4  1.068555e+06"
      ]
     },
     "metadata": {},
     "output_type": "display_data"
    },
    {
     "name": "stdout",
     "output_type": "stream",
     "text": [
      "RMSE: 1068554.9002242596\n",
      "Lambeda: 6.400000000000005\n"
     ]
    },
    {
     "data": {
      "image/png": "[encoded data removed]",
      "text/plain": [
       "<Figure size 432x288 with 1 Axes>"
      ]
     },
     "metadata": {
      "needs_background": "light"
     },
     "output_type": "display_data"
    },
    {
     "data": {
      "text/html": [
       "<div>\n",
       "<style scoped>\n",
       "    .dataframe tbody tr th:only-of-type {\n",
       "        vertical-align: middle;\n",
       "    }\n",
       "\n",
       "    .dataframe tbody tr th {\n",
       "        vertical-align: top;\n",
       "    }\n",
       "\n",
       "    .dataframe thead th {\n",
       "        text-align: right;\n",
       "    }\n",
       "</style>\n",
       "<table border=\"1\" class=\"dataframe\">\n",
       "  <thead>\n",
       "    <tr style=\"text-align: right;\">\n",
       "      <th></th>\n",
       "      <th>Features</th>\n",
       "      <th>Coef</th>\n",
       "    </tr>\n",
       "  </thead>\n",
       "  <tbody>\n",
       "    <tr>\n",
       "      <td>0</td>\n",
       "      <td>Intersect</td>\n",
       "      <td>-808.261769</td>\n",
       "    </tr>\n",
       "    <tr>\n",
       "      <td>1</td>\n",
       "      <td>Accept</td>\n",
       "      <td>1.240118</td>\n",
       "    </tr>\n",
       "    <tr>\n",
       "      <td>2</td>\n",
       "      <td>Enroll</td>\n",
       "      <td>0.293775</td>\n",
       "    </tr>\n",
       "    <tr>\n",
       "      <td>3</td>\n",
       "      <td>Top10perc</td>\n",
       "      <td>42.238162</td>\n",
       "    </tr>\n",
       "    <tr>\n",
       "      <td>4</td>\n",
       "      <td>Top25perc</td>\n",
       "      <td>-14.374250</td>\n",
       "    </tr>\n",
       "    <tr>\n",
       "      <td>5</td>\n",
       "      <td>F_Undergrad</td>\n",
       "      <td>-0.012896</td>\n",
       "    </tr>\n",
       "    <tr>\n",
       "      <td>6</td>\n",
       "      <td>P_Undergrad</td>\n",
       "      <td>0.057522</td>\n",
       "    </tr>\n",
       "    <tr>\n",
       "      <td>7</td>\n",
       "      <td>Outstate</td>\n",
       "      <td>-0.055904</td>\n",
       "    </tr>\n",
       "    <tr>\n",
       "      <td>8</td>\n",
       "      <td>Room_Board</td>\n",
       "      <td>0.135773</td>\n",
       "    </tr>\n",
       "    <tr>\n",
       "      <td>9</td>\n",
       "      <td>Books</td>\n",
       "      <td>-0.191998</td>\n",
       "    </tr>\n",
       "    <tr>\n",
       "      <td>10</td>\n",
       "      <td>Personal</td>\n",
       "      <td>0.065408</td>\n",
       "    </tr>\n",
       "    <tr>\n",
       "      <td>11</td>\n",
       "      <td>PhD</td>\n",
       "      <td>-5.163374</td>\n",
       "    </tr>\n",
       "    <tr>\n",
       "      <td>12</td>\n",
       "      <td>Terminal</td>\n",
       "      <td>-7.942516</td>\n",
       "    </tr>\n",
       "    <tr>\n",
       "      <td>13</td>\n",
       "      <td>S_F_Ratio</td>\n",
       "      <td>16.876099</td>\n",
       "    </tr>\n",
       "    <tr>\n",
       "      <td>14</td>\n",
       "      <td>perc_alumni</td>\n",
       "      <td>-9.831357</td>\n",
       "    </tr>\n",
       "    <tr>\n",
       "      <td>15</td>\n",
       "      <td>Expend</td>\n",
       "      <td>0.117569</td>\n",
       "    </tr>\n",
       "    <tr>\n",
       "      <td>16</td>\n",
       "      <td>Grad_Rate</td>\n",
       "      <td>12.217552</td>\n",
       "    </tr>\n",
       "    <tr>\n",
       "      <td>17</td>\n",
       "      <td>Private_Yes</td>\n",
       "      <td>-345.328423</td>\n",
       "    </tr>\n",
       "  </tbody>\n",
       "</table>\n",
       "</div>"
      ],
      "text/plain": [
       "       Features        Coef\n",
       "0     Intersect -808.261769\n",
       "1        Accept    1.240118\n",
       "2        Enroll    0.293775\n",
       "3     Top10perc   42.238162\n",
       "4     Top25perc  -14.374250\n",
       "5   F_Undergrad   -0.012896\n",
       "6   P_Undergrad    0.057522\n",
       "7      Outstate   -0.055904\n",
       "8    Room_Board    0.135773\n",
       "9         Books   -0.191998\n",
       "10     Personal    0.065408\n",
       "11          PhD   -5.163374\n",
       "12     Terminal   -7.942516\n",
       "13    S_F_Ratio   16.876099\n",
       "14  perc_alumni   -9.831357\n",
       "15       Expend    0.117569\n",
       "16    Grad_Rate   12.217552\n",
       "17  Private_Yes -345.328423"
      ]
     },
     "metadata": {},
     "output_type": "display_data"
    }
   ],
   "source": [
    "ridge_best_model = optimize(X_train, y_train, 10, np.arange(1, 20, .1))"
   ]
  },
  {
   "cell_type": "markdown",
   "metadata": {},
   "source": [
    "**TEST ERROR**"
   ]
  },
  {
   "cell_type": "code",
   "execution_count": 862,
   "metadata": {},
   "outputs": [
    {
     "name": "stdout",
     "output_type": "stream",
     "text": [
      "Test Error: 1230.2863913806934\n"
     ]
    }
   ],
   "source": [
    "print(\"Test Error: {}\".format(np.sqrt(mse(ridge_best_model.predict(X_test),y_test))))"
   ]
  },
  {
   "cell_type": "markdown",
   "metadata": {},
   "source": [
    "**Comment:** With an RSME on the test set of 1230.29, ridge regression performs marginally worse than a naive linear regression with all feature (RMSE: 1229.13)."
   ]
  },
  {
   "cell_type": "markdown",
   "metadata": {},
   "source": [
    "**(d) Fit a lasso model on the training set, with λ chosen by crossvalidation. Report the test error obtained, along with the number of non-zero coefficient estimates**"
   ]
  },
  {
   "cell_type": "code",
   "execution_count": 870,
   "metadata": {},
   "outputs": [],
   "source": [
    "def lasso_cv(X,y,k,alpha):\n",
    "    \n",
    "    X_folds = np.array_split(X,k)\n",
    "    y_folds = np.array_split(y,k)\n",
    "    \n",
    "    results = []\n",
    "    for p in np.arange(k):\n",
    "        X_test = X_folds[p]\n",
    "        y_test = y_folds[p]\n",
    "        X_train = X.drop(X_test.index)\n",
    "        y_train = y.drop(y_test.index)\n",
    "        \n",
    "        # fit\n",
    "        lasso_regr = linear_model.Lasso(alpha = alpha,fit_intercept=True,normalize=True,max_iter=100000).fit(X_train,y_train)\n",
    "        y_hat = lasso_regr.predict(X_test)\n",
    "        \n",
    "        results += [mse(y_hat,y_test)]\n",
    "        \n",
    "    return np.mean(results)\n",
    "        \n",
    "def optimize_lasso(X,y,k,lambdas):\n",
    "    \n",
    "    results = []\n",
    "    for i in lambdas:\n",
    "        lasso_result = lasso_cv(X,y,k,i)\n",
    "        results+= [[i,lasso_result]]  \n",
    "    \n",
    "    plot_results = pd.DataFrame({'lambedas':np.array(results)[:,0],'mse':np.array(results)[:,1]})\n",
    "    \n",
    "    sns.scatterplot(x='lambedas',y='mse',data=plot_results)\n",
    "    plt.show()\n",
    "    \n",
    "    display(plot_results[plot_results['mse']==plot_results['mse'].min()].astype(np.float))\n",
    "    print(\"RMSE: {}\\nLambeda: {}\".format(np.sqrt(plot_results.iloc[19][1]),plot_results.iloc[19][0]))\n",
    "    optimal_lamb = plot_results.iloc[54][0]\n",
    "    \n",
    "    best_lasso_model = linear_model.Lasso(alpha= optimal_lamb,fit_intercept=True,normalize=True,max_iter=100000).fit(X,y)\n",
    "    \n",
    "    intersect_df = pd.DataFrame({'Features':'Intersect','Coef': [best_lasso_model.intercept_]})\n",
    "    coef_df = intersect_df.append(pd.DataFrame({'Features': X.columns,'Coef': best_lasso_model.coef_}),ignore_index=True)\n",
    "    \n",
    "    sns.barplot(x='Coef',y='Features',data = coef_df)\n",
    "    plt.show()\n",
    "    \n",
    "    display(coef_df)\n",
    "    \n",
    "    return best_lasso_model"
   ]
  },
  {
   "cell_type": "code",
   "execution_count": 871,
   "metadata": {},
   "outputs": [
    {
     "data": {
      "image/png": "[encoded data removed]",
      "text/plain": [
       "<Figure size 432x288 with 1 Axes>"
      ]
     },
     "metadata": {
      "needs_background": "light"
     },
     "output_type": "display_data"
    },
    {
     "data": {
      "text/html": [
       "<div>\n",
       "<style scoped>\n",
       "    .dataframe tbody tr th:only-of-type {\n",
       "        vertical-align: middle;\n",
       "    }\n",
       "\n",
       "    .dataframe tbody tr th {\n",
       "        vertical-align: top;\n",
       "    }\n",
       "\n",
       "    .dataframe thead th {\n",
       "        text-align: right;\n",
       "    }\n",
       "</style>\n",
       "<table border=\"1\" class=\"dataframe\">\n",
       "  <thead>\n",
       "    <tr style=\"text-align: right;\">\n",
       "      <th></th>\n",
       "      <th>lambedas</th>\n",
       "      <th>mse</th>\n",
       "    </tr>\n",
       "  </thead>\n",
       "  <tbody>\n",
       "    <tr>\n",
       "      <td>19</td>\n",
       "      <td>0.191</td>\n",
       "      <td>1.061715e+06</td>\n",
       "    </tr>\n",
       "  </tbody>\n",
       "</table>\n",
       "</div>"
      ],
      "text/plain": [
       "    lambedas           mse\n",
       "19     0.191  1.061715e+06"
      ]
     },
     "metadata": {},
     "output_type": "display_data"
    },
    {
     "name": "stdout",
     "output_type": "stream",
     "text": [
      "RMSE: 1030.3953270677769\n",
      "Lambeda: 0.19099999999999998\n"
     ]
    },
    {
     "data": {
      "image/png": "[encoded data removed]",
      "text/plain": [
       "<Figure size 432x288 with 1 Axes>"
      ]
     },
     "metadata": {
      "needs_background": "light"
     },
     "output_type": "display_data"
    },
    {
     "data": {
      "text/html": [
       "<div>\n",
       "<style scoped>\n",
       "    .dataframe tbody tr th:only-of-type {\n",
       "        vertical-align: middle;\n",
       "    }\n",
       "\n",
       "    .dataframe tbody tr th {\n",
       "        vertical-align: top;\n",
       "    }\n",
       "\n",
       "    .dataframe thead th {\n",
       "        text-align: right;\n",
       "    }\n",
       "</style>\n",
       "<table border=\"1\" class=\"dataframe\">\n",
       "  <thead>\n",
       "    <tr style=\"text-align: right;\">\n",
       "      <th></th>\n",
       "      <th>Features</th>\n",
       "      <th>Coef</th>\n",
       "    </tr>\n",
       "  </thead>\n",
       "  <tbody>\n",
       "    <tr>\n",
       "      <td>0</td>\n",
       "      <td>Intersect</td>\n",
       "      <td>-802.620356</td>\n",
       "    </tr>\n",
       "    <tr>\n",
       "      <td>1</td>\n",
       "      <td>Accept</td>\n",
       "      <td>1.228060</td>\n",
       "    </tr>\n",
       "    <tr>\n",
       "      <td>2</td>\n",
       "      <td>Enroll</td>\n",
       "      <td>0.243192</td>\n",
       "    </tr>\n",
       "    <tr>\n",
       "      <td>3</td>\n",
       "      <td>Top10perc</td>\n",
       "      <td>35.413163</td>\n",
       "    </tr>\n",
       "    <tr>\n",
       "      <td>4</td>\n",
       "      <td>Top25perc</td>\n",
       "      <td>-9.173328</td>\n",
       "    </tr>\n",
       "    <tr>\n",
       "      <td>5</td>\n",
       "      <td>F_Undergrad</td>\n",
       "      <td>0.000000</td>\n",
       "    </tr>\n",
       "    <tr>\n",
       "      <td>6</td>\n",
       "      <td>P_Undergrad</td>\n",
       "      <td>0.046262</td>\n",
       "    </tr>\n",
       "    <tr>\n",
       "      <td>7</td>\n",
       "      <td>Outstate</td>\n",
       "      <td>-0.042285</td>\n",
       "    </tr>\n",
       "    <tr>\n",
       "      <td>8</td>\n",
       "      <td>Room_Board</td>\n",
       "      <td>0.108738</td>\n",
       "    </tr>\n",
       "    <tr>\n",
       "      <td>9</td>\n",
       "      <td>Books</td>\n",
       "      <td>-0.096387</td>\n",
       "    </tr>\n",
       "    <tr>\n",
       "      <td>10</td>\n",
       "      <td>Personal</td>\n",
       "      <td>0.051845</td>\n",
       "    </tr>\n",
       "    <tr>\n",
       "      <td>11</td>\n",
       "      <td>PhD</td>\n",
       "      <td>-3.771424</td>\n",
       "    </tr>\n",
       "    <tr>\n",
       "      <td>12</td>\n",
       "      <td>Terminal</td>\n",
       "      <td>-8.269804</td>\n",
       "    </tr>\n",
       "    <tr>\n",
       "      <td>13</td>\n",
       "      <td>S_F_Ratio</td>\n",
       "      <td>10.145457</td>\n",
       "    </tr>\n",
       "    <tr>\n",
       "      <td>14</td>\n",
       "      <td>perc_alumni</td>\n",
       "      <td>-9.326419</td>\n",
       "    </tr>\n",
       "    <tr>\n",
       "      <td>15</td>\n",
       "      <td>Expend</td>\n",
       "      <td>0.114753</td>\n",
       "    </tr>\n",
       "    <tr>\n",
       "      <td>16</td>\n",
       "      <td>Grad_Rate</td>\n",
       "      <td>11.278133</td>\n",
       "    </tr>\n",
       "    <tr>\n",
       "      <td>17</td>\n",
       "      <td>Private_Yes</td>\n",
       "      <td>-404.447626</td>\n",
       "    </tr>\n",
       "  </tbody>\n",
       "</table>\n",
       "</div>"
      ],
      "text/plain": [
       "       Features        Coef\n",
       "0     Intersect -802.620356\n",
       "1        Accept    1.228060\n",
       "2        Enroll    0.243192\n",
       "3     Top10perc   35.413163\n",
       "4     Top25perc   -9.173328\n",
       "5   F_Undergrad    0.000000\n",
       "6   P_Undergrad    0.046262\n",
       "7      Outstate   -0.042285\n",
       "8    Room_Board    0.108738\n",
       "9         Books   -0.096387\n",
       "10     Personal    0.051845\n",
       "11          PhD   -3.771424\n",
       "12     Terminal   -8.269804\n",
       "13    S_F_Ratio   10.145457\n",
       "14  perc_alumni   -9.326419\n",
       "15       Expend    0.114753\n",
       "16    Grad_Rate   11.278133\n",
       "17  Private_Yes -404.447626"
      ]
     },
     "metadata": {},
     "output_type": "display_data"
    }
   ],
   "source": [
    "lasso_best_model= optimize_lasso(X_train, y_train, 10, np.arange(.001, 1, .01))"
   ]
  },
  {
   "cell_type": "code",
   "execution_count": 876,
   "metadata": {},
   "outputs": [
    {
     "data": {
      "text/html": [
       "<h3> Test Error </h3>"
      ],
      "text/plain": [
       "<IPython.core.display.HTML object>"
      ]
     },
     "metadata": {},
     "output_type": "display_data"
    },
    {
     "name": "stdout",
     "output_type": "stream",
     "text": [
      "Test Error: 1231.22568790635\n"
     ]
    }
   ],
   "source": [
    "display(HTML('<h3> Test Error </h3>'))\n",
    "print(\"Test Error: {}\".format(np.sqrt(mse(lasso_best_model.predict(X_test),y_test))))"
   ]
  },
  {
   "cell_type": "code",
   "execution_count": 880,
   "metadata": {},
   "outputs": [
    {
     "data": {
      "text/html": [
       "<h3> Results so far... </h3>"
      ],
      "text/plain": [
       "<IPython.core.display.HTML object>"
      ]
     },
     "metadata": {},
     "output_type": "display_data"
    },
    {
     "data": {
      "text/html": [
       "<div>\n",
       "<style scoped>\n",
       "    .dataframe tbody tr th:only-of-type {\n",
       "        vertical-align: middle;\n",
       "    }\n",
       "\n",
       "    .dataframe tbody tr th {\n",
       "        vertical-align: top;\n",
       "    }\n",
       "\n",
       "    .dataframe thead th {\n",
       "        text-align: right;\n",
       "    }\n",
       "</style>\n",
       "<table border=\"1\" class=\"dataframe\">\n",
       "  <thead>\n",
       "    <tr style=\"text-align: right;\">\n",
       "      <th></th>\n",
       "      <th>Models</th>\n",
       "      <th>RMSE Test Error</th>\n",
       "    </tr>\n",
       "  </thead>\n",
       "  <tbody>\n",
       "    <tr>\n",
       "      <td>0</td>\n",
       "      <td>OLS</td>\n",
       "      <td>1229.132621</td>\n",
       "    </tr>\n",
       "    <tr>\n",
       "      <td>1</td>\n",
       "      <td>Ridge</td>\n",
       "      <td>1230.286390</td>\n",
       "    </tr>\n",
       "    <tr>\n",
       "      <td>2</td>\n",
       "      <td>Lasso</td>\n",
       "      <td>1231.225687</td>\n",
       "    </tr>\n",
       "  </tbody>\n",
       "</table>\n",
       "</div>"
      ],
      "text/plain": [
       "  Models  RMSE Test Error\n",
       "0    OLS      1229.132621\n",
       "1  Ridge      1230.286390\n",
       "2  Lasso      1231.225687"
      ]
     },
     "execution_count": 880,
     "metadata": {},
     "output_type": "execute_result"
    }
   ],
   "source": [
    "display(HTML('<h3> Results so far... </h3>'))\n",
    "\n",
    "models = ['OLS','Ridge','Lasso']\n",
    "resuls = [1229.132621,1230.28639,1231.225687]\n",
    "\n",
    "pd.DataFrame({'Models':models,'RMSE Test Error': resuls})"
   ]
  },
  {
   "cell_type": "markdown",
   "metadata": {},
   "source": [
    "**(e) Fit a PCR model on the training set, with M chosen by crossvalidation. Report the test error obtained, along with the value of M selected by cross-validation.**"
   ]
  },
  {
   "cell_type": "code",
   "execution_count": 921,
   "metadata": {},
   "outputs": [],
   "source": [
    "def pcr_model(X,y,seed,cv_folds):\n",
    "    \"\"\"Perform Principle Component Regression evaluated with\n",
    "    k-fold cross validation \"\"\"\n",
    "    \n",
    "    pca = PCA()\n",
    "    X_reduced = pca.fit_transform(scale(X))\n",
    "    \n",
    "    M = X_reduced.shape[1]\n",
    "    MSEs = []\n",
    "    for m in np.arange(M):\n",
    "        model = LinearRegression()\n",
    "        cv = KFold(n_splits=cv_folds,shuffle=True,random_state=seed)\n",
    "        cv_score = cross_val_score(model,X_reduced[:,0:m+1],y,cv=cv,scoring='neg_mean_squared_error')\n",
    "        MSEs += [np.mean(np.abs(cv_score))]\n",
    "    \n",
    "    df=pd.DataFrame({'principal components count': np.arange(1, M+1), 'RMSE_CV': np.sqrt(MSEs)})\n",
    "    display(pd.DataFrame({'principal components count': np.arange(1, M+1), 'RMSE_CV': np.sqrt(MSEs)}))\n",
    "    ax = sns.lineplot(x='principal components count', y='RMSE_CV', data=pd.DataFrame({'principal components count': np.arange(1, M+1), 'RMSE_CV': np.sqrt(MSEs)}))\n",
    "    plt.show();\n",
    "    \n",
    "    return df[df['RMSE_CV'] == df['RMSE_CV'].min()]['principal components count'].iloc[0]\n",
    "    \n",
    "    "
   ]
  },
  {
   "cell_type": "code",
   "execution_count": 936,
   "metadata": {},
   "outputs": [
    {
     "data": {
      "text/html": [
       "<div>\n",
       "<style scoped>\n",
       "    .dataframe tbody tr th:only-of-type {\n",
       "        vertical-align: middle;\n",
       "    }\n",
       "\n",
       "    .dataframe tbody tr th {\n",
       "        vertical-align: top;\n",
       "    }\n",
       "\n",
       "    .dataframe thead th {\n",
       "        text-align: right;\n",
       "    }\n",
       "</style>\n",
       "<table border=\"1\" class=\"dataframe\">\n",
       "  <thead>\n",
       "    <tr style=\"text-align: right;\">\n",
       "      <th></th>\n",
       "      <th>principal components count</th>\n",
       "      <th>RMSE_CV</th>\n",
       "    </tr>\n",
       "  </thead>\n",
       "  <tbody>\n",
       "    <tr>\n",
       "      <td>0</td>\n",
       "      <td>1</td>\n",
       "      <td>3218.615767</td>\n",
       "    </tr>\n",
       "    <tr>\n",
       "      <td>1</td>\n",
       "      <td>2</td>\n",
       "      <td>1632.892149</td>\n",
       "    </tr>\n",
       "    <tr>\n",
       "      <td>2</td>\n",
       "      <td>3</td>\n",
       "      <td>1636.123557</td>\n",
       "    </tr>\n",
       "    <tr>\n",
       "      <td>3</td>\n",
       "      <td>4</td>\n",
       "      <td>1370.433175</td>\n",
       "    </tr>\n",
       "    <tr>\n",
       "      <td>4</td>\n",
       "      <td>5</td>\n",
       "      <td>1377.911455</td>\n",
       "    </tr>\n",
       "    <tr>\n",
       "      <td>5</td>\n",
       "      <td>6</td>\n",
       "      <td>1229.472581</td>\n",
       "    </tr>\n",
       "    <tr>\n",
       "      <td>6</td>\n",
       "      <td>7</td>\n",
       "      <td>1224.000590</td>\n",
       "    </tr>\n",
       "    <tr>\n",
       "      <td>7</td>\n",
       "      <td>8</td>\n",
       "      <td>1172.105110</td>\n",
       "    </tr>\n",
       "    <tr>\n",
       "      <td>8</td>\n",
       "      <td>9</td>\n",
       "      <td>1176.675471</td>\n",
       "    </tr>\n",
       "    <tr>\n",
       "      <td>9</td>\n",
       "      <td>10</td>\n",
       "      <td>1181.293663</td>\n",
       "    </tr>\n",
       "    <tr>\n",
       "      <td>10</td>\n",
       "      <td>11</td>\n",
       "      <td>1185.006372</td>\n",
       "    </tr>\n",
       "    <tr>\n",
       "      <td>11</td>\n",
       "      <td>12</td>\n",
       "      <td>1163.029476</td>\n",
       "    </tr>\n",
       "    <tr>\n",
       "      <td>12</td>\n",
       "      <td>13</td>\n",
       "      <td>1169.959930</td>\n",
       "    </tr>\n",
       "    <tr>\n",
       "      <td>13</td>\n",
       "      <td>14</td>\n",
       "      <td>1171.197461</td>\n",
       "    </tr>\n",
       "    <tr>\n",
       "      <td>14</td>\n",
       "      <td>15</td>\n",
       "      <td>1154.907828</td>\n",
       "    </tr>\n",
       "    <tr>\n",
       "      <td>15</td>\n",
       "      <td>16</td>\n",
       "      <td>1020.960049</td>\n",
       "    </tr>\n",
       "    <tr>\n",
       "      <td>16</td>\n",
       "      <td>17</td>\n",
       "      <td>1024.665502</td>\n",
       "    </tr>\n",
       "  </tbody>\n",
       "</table>\n",
       "</div>"
      ],
      "text/plain": [
       "    principal components count      RMSE_CV\n",
       "0                            1  3218.615767\n",
       "1                            2  1632.892149\n",
       "2                            3  1636.123557\n",
       "3                            4  1370.433175\n",
       "4                            5  1377.911455\n",
       "5                            6  1229.472581\n",
       "6                            7  1224.000590\n",
       "7                            8  1172.105110\n",
       "8                            9  1176.675471\n",
       "9                           10  1181.293663\n",
       "10                          11  1185.006372\n",
       "11                          12  1163.029476\n",
       "12                          13  1169.959930\n",
       "13                          14  1171.197461\n",
       "14                          15  1154.907828\n",
       "15                          16  1020.960049\n",
       "16                          17  1024.665502"
      ]
     },
     "metadata": {},
     "output_type": "display_data"
    },
    {
     "data": {
      "image/png": "[encoded data removed]",
      "text/plain": [
       "<Figure size 432x288 with 1 Axes>"
      ]
     },
     "metadata": {
      "needs_background": "light"
     },
     "output_type": "display_data"
    }
   ],
   "source": [
    "pcr_best = pcr_model(X_train,y_train,1,10)"
   ]
  },
  {
   "cell_type": "code",
   "execution_count": 967,
   "metadata": {},
   "outputs": [
    {
     "data": {
      "text/plain": [
       "1229.1326212399663"
      ]
     },
     "metadata": {},
     "output_type": "display_data"
    }
   ],
   "source": [
    "pca = PCA()\n",
    "X_reduced = pca.fit_transform(scale(col.drop(['Apps'], axis=1)))\n",
    "\n",
    "model = LinearRegression().fit(X_reduced[train][:,0:pcr_best+1],y_train)\n",
    "#Predict\n",
    "y_hat_pca = model.predict(X_reduced[~train][:,0:pcr_best+1])\n",
    "\n",
    "best_df= np.sqrt(mse(y_hat_pca, y_test))\n",
    "display(best_df)"
   ]
  },
  {
   "cell_type": "code",
   "execution_count": 968,
   "metadata": {},
   "outputs": [
    {
     "data": {
      "text/html": [
       "<h3> Results so far... </h3>"
      ],
      "text/plain": [
       "<IPython.core.display.HTML object>"
      ]
     },
     "metadata": {},
     "output_type": "display_data"
    },
    {
     "data": {
      "text/html": [
       "<div>\n",
       "<style scoped>\n",
       "    .dataframe tbody tr th:only-of-type {\n",
       "        vertical-align: middle;\n",
       "    }\n",
       "\n",
       "    .dataframe tbody tr th {\n",
       "        vertical-align: top;\n",
       "    }\n",
       "\n",
       "    .dataframe thead th {\n",
       "        text-align: right;\n",
       "    }\n",
       "</style>\n",
       "<table border=\"1\" class=\"dataframe\">\n",
       "  <thead>\n",
       "    <tr style=\"text-align: right;\">\n",
       "      <th></th>\n",
       "      <th>Models</th>\n",
       "      <th>RMSE Test Error</th>\n",
       "    </tr>\n",
       "  </thead>\n",
       "  <tbody>\n",
       "    <tr>\n",
       "      <td>0</td>\n",
       "      <td>OLS</td>\n",
       "      <td>1229.132621</td>\n",
       "    </tr>\n",
       "    <tr>\n",
       "      <td>1</td>\n",
       "      <td>Ridge</td>\n",
       "      <td>1230.286390</td>\n",
       "    </tr>\n",
       "    <tr>\n",
       "      <td>2</td>\n",
       "      <td>Lasso</td>\n",
       "      <td>1231.225687</td>\n",
       "    </tr>\n",
       "    <tr>\n",
       "      <td>3</td>\n",
       "      <td>PCR</td>\n",
       "      <td>1229.132621</td>\n",
       "    </tr>\n",
       "  </tbody>\n",
       "</table>\n",
       "</div>"
      ],
      "text/plain": [
       "  Models  RMSE Test Error\n",
       "0    OLS      1229.132621\n",
       "1  Ridge      1230.286390\n",
       "2  Lasso      1231.225687\n",
       "3    PCR      1229.132621"
      ]
     },
     "execution_count": 968,
     "metadata": {},
     "output_type": "execute_result"
    }
   ],
   "source": [
    "display(HTML('<h3> Results so far... </h3>'))\n",
    "\n",
    "models = ['OLS','Ridge','Lasso','PCR']\n",
    "resuls = [1229.132621,1230.28639,1231.225687,1229.1326212399663]\n",
    "\n",
    "pd.DataFrame({'Models':models,'RMSE Test Error': resuls})"
   ]
  },
  {
   "cell_type": "code",
   "execution_count": 1030,
   "metadata": {},
   "outputs": [],
   "source": [
    "from sklearn.cross_decomposition import PLSRegression\n",
    "\n",
    "def pls_cv(X,y,seed,cv_value):\n",
    "    \n",
    "    results = []\n",
    "    for m in range(X.shape[1]):\n",
    "        cv = KFold(n_splits=cv_value,shuffle=True,random_state=seed)\n",
    "        cv_score = cross_val_score(PLSRegression(n_components=m+1, scale=True, max_iter=10000),X,y,cv = cv_value,scoring='neg_mean_squared_error')\n",
    "        results += [np.mean(np.abs(cv_score))]\n",
    "        \n",
    "    df = pd.DataFrame({'Principal Component':np.arange(1,X.shape[1]+1),'RMSE': np.sqrt(results)})\n",
    "    display(df)\n",
    "    \n",
    "    sns.lineplot(x='Principal Component',y='RMSE',data=df)\n",
    "    \n",
    "    display(df[df['RMSE']==df['RMSE'].min()])\n",
    "    return df[df['RMSE']==df['RMSE'].min()]['Principal Component'].iloc[0]"
   ]
  },
  {
   "cell_type": "code",
   "execution_count": 1031,
   "metadata": {},
   "outputs": [
    {
     "data": {
      "text/html": [
       "<div>\n",
       "<style scoped>\n",
       "    .dataframe tbody tr th:only-of-type {\n",
       "        vertical-align: middle;\n",
       "    }\n",
       "\n",
       "    .dataframe tbody tr th {\n",
       "        vertical-align: top;\n",
       "    }\n",
       "\n",
       "    .dataframe thead th {\n",
       "        text-align: right;\n",
       "    }\n",
       "</style>\n",
       "<table border=\"1\" class=\"dataframe\">\n",
       "  <thead>\n",
       "    <tr style=\"text-align: right;\">\n",
       "      <th></th>\n",
       "      <th>Principal Component</th>\n",
       "      <th>RMSE</th>\n",
       "    </tr>\n",
       "  </thead>\n",
       "  <tbody>\n",
       "    <tr>\n",
       "      <td>0</td>\n",
       "      <td>1</td>\n",
       "      <td>1541.762919</td>\n",
       "    </tr>\n",
       "    <tr>\n",
       "      <td>1</td>\n",
       "      <td>2</td>\n",
       "      <td>1379.044230</td>\n",
       "    </tr>\n",
       "    <tr>\n",
       "      <td>2</td>\n",
       "      <td>3</td>\n",
       "      <td>1124.798536</td>\n",
       "    </tr>\n",
       "    <tr>\n",
       "      <td>3</td>\n",
       "      <td>4</td>\n",
       "      <td>1124.943142</td>\n",
       "    </tr>\n",
       "    <tr>\n",
       "      <td>4</td>\n",
       "      <td>5</td>\n",
       "      <td>1084.973473</td>\n",
       "    </tr>\n",
       "    <tr>\n",
       "      <td>5</td>\n",
       "      <td>6</td>\n",
       "      <td>1070.079197</td>\n",
       "    </tr>\n",
       "    <tr>\n",
       "      <td>6</td>\n",
       "      <td>7</td>\n",
       "      <td>1058.003331</td>\n",
       "    </tr>\n",
       "    <tr>\n",
       "      <td>7</td>\n",
       "      <td>8</td>\n",
       "      <td>1039.900352</td>\n",
       "    </tr>\n",
       "    <tr>\n",
       "      <td>8</td>\n",
       "      <td>9</td>\n",
       "      <td>1035.951587</td>\n",
       "    </tr>\n",
       "    <tr>\n",
       "      <td>9</td>\n",
       "      <td>10</td>\n",
       "      <td>1036.308546</td>\n",
       "    </tr>\n",
       "    <tr>\n",
       "      <td>10</td>\n",
       "      <td>11</td>\n",
       "      <td>1035.467801</td>\n",
       "    </tr>\n",
       "    <tr>\n",
       "      <td>11</td>\n",
       "      <td>12</td>\n",
       "      <td>1034.153432</td>\n",
       "    </tr>\n",
       "    <tr>\n",
       "      <td>12</td>\n",
       "      <td>13</td>\n",
       "      <td>1033.512372</td>\n",
       "    </tr>\n",
       "    <tr>\n",
       "      <td>13</td>\n",
       "      <td>14</td>\n",
       "      <td>1033.565464</td>\n",
       "    </tr>\n",
       "    <tr>\n",
       "      <td>14</td>\n",
       "      <td>15</td>\n",
       "      <td>1033.813341</td>\n",
       "    </tr>\n",
       "    <tr>\n",
       "      <td>15</td>\n",
       "      <td>16</td>\n",
       "      <td>1033.990349</td>\n",
       "    </tr>\n",
       "    <tr>\n",
       "      <td>16</td>\n",
       "      <td>17</td>\n",
       "      <td>1033.960330</td>\n",
       "    </tr>\n",
       "  </tbody>\n",
       "</table>\n",
       "</div>"
      ],
      "text/plain": [
       "    Principal Component         RMSE\n",
       "0                     1  1541.762919\n",
       "1                     2  1379.044230\n",
       "2                     3  1124.798536\n",
       "3                     4  1124.943142\n",
       "4                     5  1084.973473\n",
       "5                     6  1070.079197\n",
       "6                     7  1058.003331\n",
       "7                     8  1039.900352\n",
       "8                     9  1035.951587\n",
       "9                    10  1036.308546\n",
       "10                   11  1035.467801\n",
       "11                   12  1034.153432\n",
       "12                   13  1033.512372\n",
       "13                   14  1033.565464\n",
       "14                   15  1033.813341\n",
       "15                   16  1033.990349\n",
       "16                   17  1033.960330"
      ]
     },
     "metadata": {},
     "output_type": "display_data"
    },
    {
     "data": {
      "text/html": [
       "<div>\n",
       "<style scoped>\n",
       "    .dataframe tbody tr th:only-of-type {\n",
       "        vertical-align: middle;\n",
       "    }\n",
       "\n",
       "    .dataframe tbody tr th {\n",
       "        vertical-align: top;\n",
       "    }\n",
       "\n",
       "    .dataframe thead th {\n",
       "        text-align: right;\n",
       "    }\n",
       "</style>\n",
       "<table border=\"1\" class=\"dataframe\">\n",
       "  <thead>\n",
       "    <tr style=\"text-align: right;\">\n",
       "      <th></th>\n",
       "      <th>Principal Component</th>\n",
       "      <th>RMSE</th>\n",
       "    </tr>\n",
       "  </thead>\n",
       "  <tbody>\n",
       "    <tr>\n",
       "      <td>12</td>\n",
       "      <td>13</td>\n",
       "      <td>1033.512372</td>\n",
       "    </tr>\n",
       "  </tbody>\n",
       "</table>\n",
       "</div>"
      ],
      "text/plain": [
       "    Principal Component         RMSE\n",
       "12                   13  1033.512372"
      ]
     },
     "metadata": {},
     "output_type": "display_data"
    },
    {
     "data": {
      "image/png": "[encoded data removed]",
      "text/plain": [
       "<Figure size 432x288 with 1 Axes>"
      ]
     },
     "metadata": {
      "needs_background": "light"
     },
     "output_type": "display_data"
    }
   ],
   "source": [
    "best_pls = pls_cv(X_train,y_train,1,10)"
   ]
  },
  {
   "cell_type": "code",
   "execution_count": 1049,
   "metadata": {},
   "outputs": [
    {
     "data": {
      "text/plain": [
       "1230.4406511425238"
      ]
     },
     "execution_count": 1049,
     "metadata": {},
     "output_type": "execute_result"
    }
   ],
   "source": [
    "Pls_model = PLSRegression(n_components=13,max_iter=10000,scale=True).fit(X_train,y_train)\n",
    "X_test_r, y_test_r = Pls_model.transform(X_test, y_test)\n",
    "y_hat_pls  = Pls_model.predict(X_test)\n",
    "\n",
    "np.sqrt(mse(y_hat_pls.T[0],y_test))\n",
    "\n",
    "    \n",
    "#best_df = np.sqrt(mse(y_hat.T[0], y_test))\n",
    "#display(best_df)"
   ]
  },
  {
   "cell_type": "code",
   "execution_count": 1050,
   "metadata": {},
   "outputs": [
    {
     "data": {
      "text/html": [
       "<h3> Results so far... </h3>"
      ],
      "text/plain": [
       "<IPython.core.display.HTML object>"
      ]
     },
     "metadata": {},
     "output_type": "display_data"
    },
    {
     "data": {
      "text/html": [
       "<div>\n",
       "<style scoped>\n",
       "    .dataframe tbody tr th:only-of-type {\n",
       "        vertical-align: middle;\n",
       "    }\n",
       "\n",
       "    .dataframe tbody tr th {\n",
       "        vertical-align: top;\n",
       "    }\n",
       "\n",
       "    .dataframe thead th {\n",
       "        text-align: right;\n",
       "    }\n",
       "</style>\n",
       "<table border=\"1\" class=\"dataframe\">\n",
       "  <thead>\n",
       "    <tr style=\"text-align: right;\">\n",
       "      <th></th>\n",
       "      <th>Models</th>\n",
       "      <th>RMSE Test Error</th>\n",
       "    </tr>\n",
       "  </thead>\n",
       "  <tbody>\n",
       "    <tr>\n",
       "      <td>0</td>\n",
       "      <td>OLS</td>\n",
       "      <td>1229.132621</td>\n",
       "    </tr>\n",
       "    <tr>\n",
       "      <td>1</td>\n",
       "      <td>Ridge</td>\n",
       "      <td>1230.286390</td>\n",
       "    </tr>\n",
       "    <tr>\n",
       "      <td>2</td>\n",
       "      <td>Lasso</td>\n",
       "      <td>1231.225687</td>\n",
       "    </tr>\n",
       "    <tr>\n",
       "      <td>3</td>\n",
       "      <td>PCR</td>\n",
       "      <td>1229.132621</td>\n",
       "    </tr>\n",
       "    <tr>\n",
       "      <td>4</td>\n",
       "      <td>PLS</td>\n",
       "      <td>1230.440651</td>\n",
       "    </tr>\n",
       "  </tbody>\n",
       "</table>\n",
       "</div>"
      ],
      "text/plain": [
       "  Models  RMSE Test Error\n",
       "0    OLS      1229.132621\n",
       "1  Ridge      1230.286390\n",
       "2  Lasso      1231.225687\n",
       "3    PCR      1229.132621\n",
       "4    PLS      1230.440651"
      ]
     },
     "execution_count": 1050,
     "metadata": {},
     "output_type": "execute_result"
    }
   ],
   "source": [
    "display(HTML('<h3> Results so far... </h3>'))\n",
    "\n",
    "models = ['OLS','Ridge','Lasso','PCR','PLS']\n",
    "resuls = [1229.132621,1230.28639,1231.225687,1229.1326212399663,1230.440651]\n",
    "\n",
    "pd.DataFrame({'Models':models,'RMSE Test Error': resuls})"
   ]
  },
  {
   "cell_type": "markdown",
   "metadata": {},
   "source": [
    "**Backward stepwise**"
   ]
  },
  {
   "cell_type": "code",
   "execution_count": 1051,
   "metadata": {},
   "outputs": [
    {
     "name": "stdout",
     "output_type": "stream",
     "text": [
      "RMSE: 1228.0980023182658\n"
     ]
    }
   ],
   "source": [
    "from sklearn.feature_selection import RFECV\n",
    "from sklearn.linear_model import LinearRegression\n",
    "\n",
    "estimator = LinearRegression()\n",
    "selector = RFECV(estimator, step=1, cv=10, scoring='neg_mean_squared_error')\n",
    "\n",
    "selector = selector.fit(X_train, y_train)\n",
    "\n",
    "y_hat = selector.predict(X_test)\n",
    "print('RMSE: {}'.format(np.sqrt(mse(y_hat, y_test))))"
   ]
  },
  {
   "cell_type": "markdown",
   "metadata": {},
   "source": [
    "**(g) Comment on the results obtained. How accurately can we predict the number of college applications received? Is there much difference among the test errors resulting from these five approaches?**"
   ]
  },
  {
   "cell_type": "code",
   "execution_count": 1094,
   "metadata": {},
   "outputs": [],
   "source": [
    "def lm_stats(X,y,y_pred):\n",
    "    \n",
    "    try:\n",
    "        y.shape[1]==1\n",
    "        y=y.iloc[:,0]\n",
    "    except:\n",
    "        pass\n",
    "    y = np.array(y)\n",
    "    \n",
    "    #residuals\n",
    "    residuals = np.array(y-y_pred)\n",
    "    \n",
    "    # Hat matrix\n",
    "    H = np.array(np.array(X @ np.linalg.inv(X.T @ X)) @ X.T)\n",
    "    print()\n",
    "    # Leverage\n",
    "    h_ii = H.diagonal()\n",
    "    \n",
    "    #external variance\n",
    "    o_ii = []\n",
    "    for i in range(X.shape[0]):\n",
    "        external_res = np.delete(residuals,i)\n",
    "        o_ii += [np.sqrt( (1 / (X.shape[0]-X.shape[1]-1))  * np.sum(np.square(external_res)))]\n",
    "    oext = np.array(o_ii)\n",
    "    \n",
    "    # external t-studentized\n",
    "    t_studentized = residuals / (oext * np.sqrt(1-h_ii))\n",
    "    \n",
    "    return pd.DataFrame({'residual':residuals,'leverage':h_ii,'t':t_studentized,'y_pred':y_pred})\n",
    "\n",
    "def lm_plot(lm_stats_df):\n",
    "    # Parse stats\n",
    "    t      = lm_stats_df['t']\n",
    "    h_ii   = lm_stats_df['leverage']\n",
    "    y_pred = lm_stats_df['y_pred']\n",
    "    \n",
    "    \n",
    "    # figure\n",
    "    plt.figure(1, figsize=(16, 18))\n",
    "    ## Studentised residual plot\n",
    "    plt.subplot(321)\n",
    "    ax = sns.regplot(x=y_pred, y=t, lowess=True)\n",
    "    plt.xlabel('Fitted values')\n",
    "    plt.ylabel('Studentised residuals')\n",
    "    plt.title('Externally studentised residual plot', fontweight='bold')\n",
    "    # Draw Hastie and Tibshirani's bounds for possible outliers\n",
    "    ax.axhline(y=3, color='r', linestyle='dashed')\n",
    "    ax.axhline(y=-3, color='r', linestyle='dashed');\n",
    "    \n",
    "    #Normal Q-Q plot -> indicates which distribution match our dataset, \n",
    "    #shows were the dots showing where the quantiles from our data set intersect from the quantiles of the normal distribution \n",
    "    # if the dots are on the line, it means that both our data and the distribution have comparable quantiles\n",
    "    plt.subplot(322)\n",
    "    ax = stats.probplot(t, dist='norm', plot=plt)\n",
    "    plt.title('Normal Q-Q', fontweight='bold')\n",
    "    plt.ylabel('Studentised residuals')\n",
    "\n",
    "    # Standardised residuals\n",
    "    plt.subplot(323)\n",
    "    ax = sns.regplot(x=y_pred, y=np.sqrt(np.abs(t)), lowess=True)\n",
    "    plt.xlabel('Fitted values')\n",
    "    plt.ylabel('√Standardized residuals')\n",
    "    plt.title('Scale-Location', fontweight='bold')\n",
    "    \n",
    "    #Residuals vs Leverage\n",
    "    plt.subplot(324)\n",
    "    ax = sns.scatterplot(x=h_ii,y=t)\n",
    "    plt.xlabel('Leverage')\n",
    "    plt.ylabel('Studentised residuals')\n",
    "    plt.title('Externally studentised residual vs Leverage', fontweight='bold');"
   ]
  },
  {
   "cell_type": "code",
   "execution_count": 1095,
   "metadata": {},
   "outputs": [
    {
     "data": {
      "image/png": "[encoded data removed]",
      "text/plain": [
       "<Figure size 432x288 with 1 Axes>"
      ]
     },
     "metadata": {
      "needs_background": "light"
     },
     "output_type": "display_data"
    },
    {
     "data": {
      "text/html": [
       "<div>\n",
       "<style scoped>\n",
       "    .dataframe tbody tr th:only-of-type {\n",
       "        vertical-align: middle;\n",
       "    }\n",
       "\n",
       "    .dataframe tbody tr th {\n",
       "        vertical-align: top;\n",
       "    }\n",
       "\n",
       "    .dataframe thead th {\n",
       "        text-align: right;\n",
       "    }\n",
       "</style>\n",
       "<table border=\"1\" class=\"dataframe\">\n",
       "  <thead>\n",
       "    <tr style=\"text-align: right;\">\n",
       "      <th></th>\n",
       "      <th>model</th>\n",
       "      <th>rmse</th>\n",
       "    </tr>\n",
       "  </thead>\n",
       "  <tbody>\n",
       "    <tr>\n",
       "      <td>0</td>\n",
       "      <td>Backward_Stepwise</td>\n",
       "      <td>1228.10</td>\n",
       "    </tr>\n",
       "    <tr>\n",
       "      <td>1</td>\n",
       "      <td>Lasso</td>\n",
       "      <td>1228.58</td>\n",
       "    </tr>\n",
       "    <tr>\n",
       "      <td>2</td>\n",
       "      <td>OLS</td>\n",
       "      <td>1229.13</td>\n",
       "    </tr>\n",
       "    <tr>\n",
       "      <td>3</td>\n",
       "      <td>PCR</td>\n",
       "      <td>1229.13</td>\n",
       "    </tr>\n",
       "    <tr>\n",
       "      <td>4</td>\n",
       "      <td>Ridge</td>\n",
       "      <td>1230.29</td>\n",
       "    </tr>\n",
       "    <tr>\n",
       "      <td>5</td>\n",
       "      <td>PLS</td>\n",
       "      <td>1230.36</td>\n",
       "    </tr>\n",
       "  </tbody>\n",
       "</table>\n",
       "</div>"
      ],
      "text/plain": [
       "               model     rmse\n",
       "0  Backward_Stepwise  1228.10\n",
       "1              Lasso  1228.58\n",
       "2                OLS  1229.13\n",
       "3                PCR  1229.13\n",
       "4              Ridge  1230.29\n",
       "5                PLS  1230.36"
      ]
     },
     "metadata": {},
     "output_type": "display_data"
    }
   ],
   "source": [
    "models = ['Backward_Stepwise', 'Lasso', 'OLS', 'PCR', 'Ridge', 'PLS']\n",
    "rmses  = [1228.10, 1228.58, 1229.13, 1229.13, 1230.29, 1230.36]\n",
    "results = pd.DataFrame({'model': models, 'rmse': rmses})\n",
    "\n",
    "ax = sns.barplot(x='model', y='rmse', data=results)\n",
    "ax.set_ylim([1220,1235])\n",
    "plt.xticks(rotation=90)\n",
    "plt.show();\n",
    "\n",
    "display(results)"
   ]
  },
  {
   "cell_type": "markdown",
   "metadata": {},
   "source": [
    "**Comment:**\n",
    "\n",
    "The mean number of applications received across all colleges is 3002. Our best models predictions yield a means error of +/- 1228 applications. So for the average college we would expect our prediction to be in error by +/- 1228/3002 = 40.9%.\n",
    "\n",
    "All models return RMSE scores in the range 1228.10 (backward stepwise) - 1230.36 (Partial Least SQuares). Thats a disparity of ...**"
   ]
  },
  {
   "cell_type": "code",
   "execution_count": 1096,
   "metadata": {},
   "outputs": [
    {
     "data": {
      "text/plain": [
       "0.18368607562014297"
      ]
     },
     "execution_count": 1096,
     "metadata": {},
     "output_type": "execute_result"
    }
   ],
   "source": [
    "((1230.36 - 1228.10) / 1230.36) *100"
   ]
  },
  {
   "cell_type": "markdown",
   "metadata": {},
   "source": [
    "... 0.18%, so there really isn't much between them in this setting.\n",
    "\n",
    "Let's take a look at the diagnostics for the best model found by backward stepwise selection..."
   ]
  },
  {
   "cell_type": "code",
   "execution_count": 1097,
   "metadata": {},
   "outputs": [
    {
     "name": "stdout",
     "output_type": "stream",
     "text": [
      "\n"
     ]
    },
    {
     "data": {
      "image/png": "[encoded data removed]",
      "text/plain": [
       "<Figure size 1152x1296 with 4 Axes>"
      ]
     },
     "metadata": {
      "needs_background": "light"
     },
     "output_type": "display_data"
    }
   ],
   "source": [
    "lm_plot(lm_stats(X_test, y_test, y_hat))"
   ]
  },
  {
   "cell_type": "markdown",
   "metadata": {},
   "source": [
    "We immediately see a very high leverage outlier. There's some none normal distributions, some heteroscedaticity and some no non-linear relationships."
   ]
  },
  {
   "cell_type": "code",
   "execution_count": null,
   "metadata": {},
   "outputs": [],
   "source": []
  }
 ],
 "metadata": {
  "kernelspec": {
   "display_name": "Python 3",
   "language": "python",
   "name": "python3"
  },
  "language_info": {
   "codemirror_mode": {
    "name": "ipython",
    "version": 3
   },
   "file_extension": ".py",
   "mimetype": "text/x-python",
   "name": "python",
   "nbconvert_exporter": "python",
   "pygments_lexer": "ipython3",
   "version": "3.7.4"
  }
 },
 "nbformat": 4,
 "nbformat_minor": 2
}
